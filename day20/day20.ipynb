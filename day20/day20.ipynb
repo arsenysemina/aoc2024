{
 "cells": [
  {
   "cell_type": "code",
   "execution_count": 141,
   "id": "4c068335-4764-4956-980b-94378cd8cab1",
   "metadata": {
    "execution": {
     "iopub.execute_input": "2024-12-20T18:00:14.391461Z",
     "iopub.status.busy": "2024-12-20T18:00:14.391190Z",
     "iopub.status.idle": "2024-12-20T18:00:14.396807Z",
     "shell.execute_reply": "2024-12-20T18:00:14.396100Z",
     "shell.execute_reply.started": "2024-12-20T18:00:14.391435Z"
    }
   },
   "outputs": [
    {
     "name": "stdout",
     "output_type": "stream",
     "text": [
      "/home/arseny/advent_of_code_2024\n"
     ]
    }
   ],
   "source": [
    "%cd ~/advent_of_code_2024\n",
    "from utils.get_input import get_input\n",
    "data = get_input(20).strip().splitlines()"
   ]
  },
  {
   "cell_type": "code",
   "execution_count": 142,
   "id": "235ef9e3-ada9-4ae4-a1a3-f2e1b6fc375b",
   "metadata": {
    "execution": {
     "iopub.execute_input": "2024-12-20T18:00:19.207397Z",
     "iopub.status.busy": "2024-12-20T18:00:19.205218Z",
     "iopub.status.idle": "2024-12-20T18:00:19.251894Z",
     "shell.execute_reply": "2024-12-20T18:00:19.251169Z",
     "shell.execute_reply.started": "2024-12-20T18:00:19.207299Z"
    }
   },
   "outputs": [],
   "source": [
    "# globals\n",
    "directions = [(1,0),(-1,0),(0,1),(0,-1)]\n",
    "s, e, path, walls = (0,0),(0,0),{}, set()\n",
    "for i,row in enumerate(data):\n",
    "    for j,c in enumerate(row):\n",
    "        if c == '#': walls.add((i,j))\n",
    "        else: path[(i,j)] = -1\n",
    "        \n",
    "        if c == 'S': s = (i,j)\n",
    "        elif c == 'E': e = (i,j)\n",
    "            \n",
    "curr, steps = s, 0\n",
    "path[s] = 0\n",
    "visited = {s}\n",
    "while curr != e:\n",
    "    for d in directions:\n",
    "        tmp = (curr[0]+d[0],curr[1]+d[1])\n",
    "        if tmp not in visited and tmp in path:\n",
    "            steps += 1\n",
    "            path[tmp] = steps\n",
    "            visited.add(tmp)\n",
    "            curr = tmp\n",
    "            continue"
   ]
  },
  {
   "cell_type": "code",
   "execution_count": 145,
   "id": "ac2598bc-0ad2-47ed-9753-9ccf2b05110a",
   "metadata": {
    "execution": {
     "iopub.execute_input": "2024-12-20T18:01:28.849570Z",
     "iopub.status.busy": "2024-12-20T18:01:28.849320Z",
     "iopub.status.idle": "2024-12-20T18:01:28.890428Z",
     "shell.execute_reply": "2024-12-20T18:01:28.889756Z",
     "shell.execute_reply.started": "2024-12-20T18:01:28.849547Z"
    }
   },
   "outputs": [
    {
     "data": {
      "text/plain": [
       "1452"
      ]
     },
     "execution_count": 145,
     "metadata": {},
     "output_type": "execute_result"
    }
   ],
   "source": [
    "# this solution for part 1 could not be reused for part 2\n",
    "save = 0\n",
    "for wall in walls:\n",
    "    neighbors = [(wall[0]+d[0],wall[1]+d[1]) for d in directions]\n",
    "    adj_path = list(filter(lambda n : n in path, neighbors))\n",
    "    adj_path = {k:path[k] for k in adj_path}\n",
    "    if len(adj_path) > 1:\n",
    "        p1 = min(adj_path, key=adj_path.get)\n",
    "        p2 = max(adj_path, key=adj_path.get)\n",
    "        if path[p2] - path[p1] > 100:\n",
    "            save += 1\n",
    "save"
   ]
  },
  {
   "cell_type": "code",
   "execution_count": 150,
   "id": "97d14a02-a0bf-4fb4-91ab-71399d4d480b",
   "metadata": {
    "execution": {
     "iopub.execute_input": "2024-12-20T18:06:45.197299Z",
     "iopub.status.busy": "2024-12-20T18:06:45.196765Z",
     "iopub.status.idle": "2024-12-20T18:06:49.034068Z",
     "shell.execute_reply": "2024-12-20T18:06:49.033543Z",
     "shell.execute_reply.started": "2024-12-20T18:06:45.197274Z"
    }
   },
   "outputs": [
    {
     "name": "stdout",
     "output_type": "stream",
     "text": [
      "1452\n",
      "999556\n"
     ]
    }
   ],
   "source": [
    "from heapq import heapify, heappush, heappop \n",
    "def distance(p1,p2):\n",
    "    return abs(p1[0]-p2[0]) + abs(p1[1]-p2[1])\n",
    "    \n",
    "def find_circle(curr,cheat_length):\n",
    "    circle = []\n",
    "    radius = cheat_length+1\n",
    "    for i in range(-radius+1,radius):\n",
    "        l = 1+(radius-abs(i)-1)*2\n",
    "        for j in range(l):\n",
    "            j = j-(l//2)\n",
    "            tmp = (curr[0]+i,curr[1]+j)\n",
    "            if tmp in path:\n",
    "                heappush(circle,(-path[tmp],tmp))\n",
    "    return circle\n",
    "\n",
    "def find_cheats(cheat_length,tolerance):\n",
    "    cheats = 0\n",
    "    for p in path:\n",
    "        circle = find_circle(p,cheat_length)\n",
    "        while circle:\n",
    "            c = heappop(circle)\n",
    "            if path[p] + c[0] - distance(p,c[1]) >= tolerance:\n",
    "                cheats += 1\n",
    "    return cheats\n",
    "\n",
    "print(find_cheats(2,100))\n",
    "print(find_cheats(20,100))"
   ]
  },
  {
   "cell_type": "code",
   "execution_count": null,
   "id": "59557752-e3b8-49b0-b21c-8ddb13f844dd",
   "metadata": {},
   "outputs": [],
   "source": []
  },
  {
   "cell_type": "code",
   "execution_count": null,
   "id": "cd8d4e6f-34e9-4bc8-a30f-3e2d59c39593",
   "metadata": {},
   "outputs": [],
   "source": []
  }
 ],
 "metadata": {
  "kernelspec": {
   "display_name": "Python 3 (ipykernel)",
   "language": "python",
   "name": "python3"
  },
  "language_info": {
   "codemirror_mode": {
    "name": "ipython",
    "version": 3
   },
   "file_extension": ".py",
   "mimetype": "text/x-python",
   "name": "python",
   "nbconvert_exporter": "python",
   "pygments_lexer": "ipython3",
   "version": "3.8.10"
  }
 },
 "nbformat": 4,
 "nbformat_minor": 5
}
