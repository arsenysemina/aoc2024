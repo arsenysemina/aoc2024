{
 "cells": [
  {
   "cell_type": "code",
   "execution_count": 42,
   "id": "7eee56a4-53b3-4835-abf4-a407c9208dee",
   "metadata": {
    "execution": {
     "iopub.execute_input": "2024-12-06T15:54:31.174195Z",
     "iopub.status.busy": "2024-12-06T15:54:31.173369Z",
     "iopub.status.idle": "2024-12-06T15:54:31.189284Z",
     "shell.execute_reply": "2024-12-06T15:54:31.186978Z",
     "shell.execute_reply.started": "2024-12-06T15:54:31.174116Z"
    }
   },
   "outputs": [
    {
     "name": "stdout",
     "output_type": "stream",
     "text": [
      "/home/arseny/advent_of_code_2024\n"
     ]
    }
   ],
   "source": [
    "%cd ~/advent_of_code_2024\n",
    "from utils.get_input import get_input\n",
    "data = get_input(6)"
   ]
  },
  {
   "cell_type": "code",
   "execution_count": 43,
   "id": "36c6adc0-3bb0-4c6b-91d6-02a3aa4db094",
   "metadata": {
    "execution": {
     "iopub.execute_input": "2024-12-06T15:54:31.489920Z",
     "iopub.status.busy": "2024-12-06T15:54:31.489615Z",
     "iopub.status.idle": "2024-12-06T15:54:31.492940Z",
     "shell.execute_reply": "2024-12-06T15:54:31.492250Z",
     "shell.execute_reply.started": "2024-12-06T15:54:31.489897Z"
    }
   },
   "outputs": [],
   "source": [
    "grid = data.splitlines()"
   ]
  },
  {
   "cell_type": "code",
   "execution_count": 44,
   "id": "23b22d4a-0c84-4d8e-ae0f-c8ea9a382cf2",
   "metadata": {
    "execution": {
     "iopub.execute_input": "2024-12-06T15:54:31.847437Z",
     "iopub.status.busy": "2024-12-06T15:54:31.847140Z",
     "iopub.status.idle": "2024-12-06T15:54:31.850842Z",
     "shell.execute_reply": "2024-12-06T15:54:31.850168Z",
     "shell.execute_reply.started": "2024-12-06T15:54:31.847415Z"
    }
   },
   "outputs": [],
   "source": [
    "guard_position = [(i,row.index('^')) for i,row in enumerate(grid) if '^' in row]"
   ]
  },
  {
   "cell_type": "code",
   "execution_count": 45,
   "id": "f70ccb90-045f-48d8-9b2f-d9445d7043ca",
   "metadata": {
    "execution": {
     "iopub.execute_input": "2024-12-06T15:54:32.239060Z",
     "iopub.status.busy": "2024-12-06T15:54:32.237191Z",
     "iopub.status.idle": "2024-12-06T15:54:32.262565Z",
     "shell.execute_reply": "2024-12-06T15:54:32.261941Z",
     "shell.execute_reply.started": "2024-12-06T15:54:32.238979Z"
    }
   },
   "outputs": [
    {
     "data": {
      "text/plain": [
       "4776"
      ]
     },
     "execution_count": 45,
     "metadata": {},
     "output_type": "execute_result"
    }
   ],
   "source": [
    "visited_with_d = set()\n",
    "visited = set()\n",
    "directions = [(-1,0),(0,1),(1,0),(0,-1)]\n",
    "p = (guard_position[0][0],guard_position[0][1],0)\n",
    "d = directions[p[2]]\n",
    "while p not in visited_with_d:\n",
    "    visited_with_d.add(p)\n",
    "    visited.add((p[0],p[1]))\n",
    "    i, j = p[0]+d[0], p[1]+d[1]\n",
    "    if (i < 0 or i >= len(grid)) or (j < 0 or j >= len(grid[i])):\n",
    "        break\n",
    "    if grid[i][j] == '#':\n",
    "        p = (p[0],p[1],(p[2]+1)%4) \n",
    "        d = directions[p[2]]\n",
    "    else:\n",
    "        p = (i,j,p[2])\n",
    "\n",
    "len(visited)"
   ]
  },
  {
   "cell_type": "code",
   "execution_count": 46,
   "id": "1ce753d4-9b06-46f3-a916-dede1b3f5960",
   "metadata": {
    "execution": {
     "iopub.execute_input": "2024-12-06T15:54:32.944144Z",
     "iopub.status.busy": "2024-12-06T15:54:32.943859Z",
     "iopub.status.idle": "2024-12-06T15:54:42.383758Z",
     "shell.execute_reply": "2024-12-06T15:54:42.383316Z",
     "shell.execute_reply.started": "2024-12-06T15:54:32.944119Z"
    }
   },
   "outputs": [
    {
     "name": "stdout",
     "output_type": "stream",
     "text": [
      "1586\n"
     ]
    }
   ],
   "source": [
    "prev_visited = visited\n",
    "prev_visited.remove((guard_position[0][0],guard_position[0][1]))\n",
    "loop_count = 0\n",
    "\n",
    "for new_obstacle in prev_visited:\n",
    "    visited_with_d = set()\n",
    "    directions = [(-1,0),(0,1),(1,0),(0,-1)]\n",
    "    p = (guard_position[0][0],guard_position[0][1],0)\n",
    "    d = directions[p[2]]\n",
    "    loop = True\n",
    "    while p not in visited_with_d:\n",
    "        visited_with_d.add(p)\n",
    "        i, j = p[0]+d[0], p[1]+d[1]\n",
    "        if (i < 0 or i >= len(grid)) or (j < 0 or j >= len(grid[i])):\n",
    "            loop = False\n",
    "            break\n",
    "        if grid[i][j] == '#' or (i==new_obstacle[0] and j==new_obstacle[1]):\n",
    "            p = (p[0],p[1],(p[2]+1)%4) \n",
    "            d = directions[p[2]]\n",
    "        else:\n",
    "            p = (i,j,p[2])\n",
    "    if loop:\n",
    "        loop_count = loop_count+1\n",
    "        \n",
    "print(loop_count)"
   ]
  },
  {
   "cell_type": "code",
   "execution_count": null,
   "id": "6624cfc6-f042-4f8d-ace2-b08c8901526b",
   "metadata": {},
   "outputs": [],
   "source": []
  }
 ],
 "metadata": {
  "kernelspec": {
   "display_name": "Python 3 (ipykernel)",
   "language": "python",
   "name": "python3"
  },
  "language_info": {
   "codemirror_mode": {
    "name": "ipython",
    "version": 3
   },
   "file_extension": ".py",
   "mimetype": "text/x-python",
   "name": "python",
   "nbconvert_exporter": "python",
   "pygments_lexer": "ipython3",
   "version": "3.8.10"
  }
 },
 "nbformat": 4,
 "nbformat_minor": 5
}
