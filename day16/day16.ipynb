{
 "cells": [
  {
   "cell_type": "code",
   "execution_count": 59,
   "id": "7406e978-2b06-4d57-a120-27514eadbb51",
   "metadata": {
    "execution": {
     "iopub.execute_input": "2024-12-16T06:34:08.054664Z",
     "iopub.status.busy": "2024-12-16T06:34:08.053838Z",
     "iopub.status.idle": "2024-12-16T06:34:08.101450Z",
     "shell.execute_reply": "2024-12-16T06:34:08.100741Z",
     "shell.execute_reply.started": "2024-12-16T06:34:08.054586Z"
    }
   },
   "outputs": [
    {
     "name": "stdout",
     "output_type": "stream",
     "text": [
      "/home/arseny/advent_of_code_2024\n"
     ]
    }
   ],
   "source": [
    "%cd ~/advent_of_code_2024\n",
    "from utils.get_input import get_input\n",
    "data = get_input(16).strip()\n",
    "data = data.splitlines()"
   ]
  },
  {
   "cell_type": "code",
   "execution_count": 60,
   "id": "57b21d55-5c4f-4a9b-94ac-cb76aa3ca91c",
   "metadata": {
    "execution": {
     "iopub.execute_input": "2024-12-16T06:34:08.345856Z",
     "iopub.status.busy": "2024-12-16T06:34:08.345589Z",
     "iopub.status.idle": "2024-12-16T06:34:08.352014Z",
     "shell.execute_reply": "2024-12-16T06:34:08.351447Z",
     "shell.execute_reply.started": "2024-12-16T06:34:08.345833Z"
    }
   },
   "outputs": [],
   "source": [
    "E, R1 = (0,0), (0,0)\n",
    "for i,row in enumerate(data):\n",
    "    for j,c in enumerate(row):\n",
    "        if c == 'E':\n",
    "            E = (i,j)\n",
    "        elif c == 'S':\n",
    "            R1 = (i,j)"
   ]
  },
  {
   "cell_type": "code",
   "execution_count": 64,
   "id": "454a13c8-de2c-48d7-8a7d-28c33bf3fc73",
   "metadata": {
    "execution": {
     "iopub.execute_input": "2024-12-16T06:36:28.719516Z",
     "iopub.status.busy": "2024-12-16T06:36:28.718768Z",
     "iopub.status.idle": "2024-12-16T06:38:34.154929Z",
     "shell.execute_reply": "2024-12-16T06:38:34.154159Z",
     "shell.execute_reply.started": "2024-12-16T06:36:28.719445Z"
    }
   },
   "outputs": [],
   "source": [
    "visited = {(R1,(0,1)):{'score':0,'paths':[[(R1,(0,1))]]}}\n",
    "\n",
    "def step(R, d):\n",
    "    l = visited[(R,d)]['paths'][0]\n",
    "    curr_score = visited[(R,d)]['score']\n",
    "    if R == E:\n",
    "        return\n",
    "    \n",
    "    rotations = [(0,1),(0,-1)]\n",
    "    if d[0] == 0:\n",
    "        rotations = [(-1,0),(1,0)]\n",
    "    steps = []\n",
    "    \n",
    "    for r in rotations:\n",
    "        score = curr_score + 1000\n",
    "        if (R,r) in visited:\n",
    "            if score < visited[(R,r)]['score']:\n",
    "                visited[(R,r)] = {'score':score, 'paths':[l+[(R,r)]]}\n",
    "                steps.append((R,r))\n",
    "            elif score == visited[(R,r)]['score']:\n",
    "                visited[(R,r)]['paths'].append(l+[(R,r)])\n",
    "        else:\n",
    "            visited[(R,r)] = {'score':score, 'paths':[l+[(R,r)]]}\n",
    "            steps.append((R,r))\n",
    "        \n",
    "    straight = data[R[0]+d[0]][R[1]+d[1]]\n",
    "    if straight != \"#\":\n",
    "        score = curr_score + 1\n",
    "        new_R = (R[0]+d[0],R[1]+d[1]) \n",
    "        if (new_R,d) in visited:\n",
    "            if score < visited[(new_R,d)]['score']:\n",
    "                visited[(new_R,d)] = {'score':score, 'paths':[l+[(new_R,d)]]}\n",
    "                steps.append((new_R,d))\n",
    "            elif score == visited[(new_R,d)]['score']:\n",
    "                visited[(new_R,d)]['paths'].append(l+[(new_R,d)])\n",
    "        else:\n",
    "            visited[(new_R,d)] = {'score':score, 'paths':[l+[(new_R,d)]]}\n",
    "            steps.append((new_R,d))\n",
    "        \n",
    "    for s in steps:\n",
    "        step(s[0],s[1])\n",
    "\n",
    "step(R1,(0,1))"
   ]
  },
  {
   "cell_type": "code",
   "execution_count": 81,
   "id": "453f997c-77d0-4460-a957-3eaf0dead859",
   "metadata": {
    "execution": {
     "iopub.execute_input": "2024-12-16T06:48:02.803032Z",
     "iopub.status.busy": "2024-12-16T06:48:02.802272Z",
     "iopub.status.idle": "2024-12-16T06:48:02.809365Z",
     "shell.execute_reply": "2024-12-16T06:48:02.808759Z",
     "shell.execute_reply.started": "2024-12-16T06:48:02.802958Z"
    }
   },
   "outputs": [
    {
     "name": "stdout",
     "output_type": "stream",
     "text": [
      "134540\n",
      "127520\n"
     ]
    }
   ],
   "source": [
    "for d in [(0,1),(0,-1),(1,0),(-1,0)]:\n",
    "    if (E,d) in visited:\n",
    "        print(visited[(E,d)][\"score\"])"
   ]
  },
  {
   "cell_type": "code",
   "execution_count": 79,
   "id": "cae80160-93f1-479e-9f4a-77675aac0aa3",
   "metadata": {
    "execution": {
     "iopub.execute_input": "2024-12-16T06:46:35.553501Z",
     "iopub.status.busy": "2024-12-16T06:46:35.553148Z",
     "iopub.status.idle": "2024-12-16T06:46:35.578036Z",
     "shell.execute_reply": "2024-12-16T06:46:35.577298Z",
     "shell.execute_reply.started": "2024-12-16T06:46:35.553469Z"
    }
   },
   "outputs": [
    {
     "data": {
      "text/plain": [
       "565"
      ]
     },
     "execution_count": 79,
     "metadata": {},
     "output_type": "execute_result"
    }
   ],
   "source": [
    "all_spaces = set()\n",
    "\n",
    "def check_paths(space_d):\n",
    "    paths = visited[space_d]['paths']\n",
    "    for path in paths:\n",
    "        for space, d in path:\n",
    "            if len(visited[(space,d)][\"paths\"]) > 1 and space_d != (space, d):\n",
    "                check_paths((space, d))\n",
    "            all_spaces.add(space)\n",
    "                \n",
    "check_paths((E,(-1,0)))\n",
    "len(all_spaces)"
   ]
  },
  {
   "cell_type": "code",
   "execution_count": null,
   "id": "4cd51d2a-d195-432b-b3b6-2b4f926970c7",
   "metadata": {},
   "outputs": [],
   "source": []
  }
 ],
 "metadata": {
  "kernelspec": {
   "display_name": "Python 3 (ipykernel)",
   "language": "python",
   "name": "python3"
  },
  "language_info": {
   "codemirror_mode": {
    "name": "ipython",
    "version": 3
   },
   "file_extension": ".py",
   "mimetype": "text/x-python",
   "name": "python",
   "nbconvert_exporter": "python",
   "pygments_lexer": "ipython3",
   "version": "3.8.10"
  }
 },
 "nbformat": 4,
 "nbformat_minor": 5
}
