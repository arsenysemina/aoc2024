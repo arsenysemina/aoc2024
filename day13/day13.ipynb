{
 "cells": [
  {
   "cell_type": "code",
   "execution_count": 96,
   "id": "a7ad5490-fba1-4215-8ae5-31a4d4c48ddb",
   "metadata": {
    "execution": {
     "iopub.execute_input": "2024-12-13T06:16:09.725161Z",
     "iopub.status.busy": "2024-12-13T06:16:09.724130Z",
     "iopub.status.idle": "2024-12-13T06:16:09.736185Z",
     "shell.execute_reply": "2024-12-13T06:16:09.735408Z",
     "shell.execute_reply.started": "2024-12-13T06:16:09.725115Z"
    }
   },
   "outputs": [
    {
     "name": "stdout",
     "output_type": "stream",
     "text": [
      "/home/arseny/advent_of_code_2024\n"
     ]
    }
   ],
   "source": [
    "%cd ~/advent_of_code_2024\n",
    "from utils.get_input import get_input\n",
    "data = get_input(13).strip()\n",
    "data = data.splitlines()\n",
    "import re\n",
    "data = [re.findall(\"\\d+\", row) for row in data]\n",
    "data = [[int(x) for x in row] for row in data if row]"
   ]
  },
  {
   "cell_type": "code",
   "execution_count": 97,
   "id": "0212dea1-b565-4d97-9f87-c7a7d741f71c",
   "metadata": {
    "execution": {
     "iopub.execute_input": "2024-12-13T06:16:10.078262Z",
     "iopub.status.busy": "2024-12-13T06:16:10.077687Z",
     "iopub.status.idle": "2024-12-13T06:16:10.096681Z",
     "shell.execute_reply": "2024-12-13T06:16:10.095912Z",
     "shell.execute_reply.started": "2024-12-13T06:16:10.078238Z"
    }
   },
   "outputs": [
    {
     "data": {
      "text/plain": [
       "29517"
      ]
     },
     "execution_count": 97,
     "metadata": {},
     "output_type": "execute_result"
    }
   ],
   "source": [
    "import numpy as np\n",
    "total = 0\n",
    "for i in range(len(data)//3):\n",
    "    b1,b2,xy = data[i*3],data[(i*3)+1],data[(i*3)+2]\n",
    "    a = np.array([[b1[0],b2[0]],[b1[1],b2[1]]])\n",
    "    b = np.array(xy)\n",
    "    presses = np.linalg.solve(a, b)\n",
    "    \n",
    "    if all(np.abs(np.round(presses) - presses) < 1e-3):\n",
    "        total += 3 * presses[0] + presses[1]\n",
    "int(total)"
   ]
  },
  {
   "cell_type": "code",
   "execution_count": 98,
   "id": "01ee9e6d-d12a-447b-ae9b-621500553ee5",
   "metadata": {
    "execution": {
     "iopub.execute_input": "2024-12-13T06:16:10.440915Z",
     "iopub.status.busy": "2024-12-13T06:16:10.440312Z",
     "iopub.status.idle": "2024-12-13T06:16:10.455335Z",
     "shell.execute_reply": "2024-12-13T06:16:10.454739Z",
     "shell.execute_reply.started": "2024-12-13T06:16:10.440889Z"
    }
   },
   "outputs": [
    {
     "data": {
      "text/plain": [
       "103570327981381"
      ]
     },
     "execution_count": 98,
     "metadata": {},
     "output_type": "execute_result"
    }
   ],
   "source": [
    "import numpy as np\n",
    "total = 0\n",
    "for i in range(len(data)//3):\n",
    "    b1,b2,xy = data[i*3],data[(i*3)+1],data[(i*3)+2]\n",
    "    a = np.array([[b1[0],b2[0]],[b1[1],b2[1]]])\n",
    "    b = np.array(xy) + 10000000000000\n",
    "    presses = np.linalg.solve(a, b)\n",
    "    \n",
    "    if all(np.abs(np.round(presses) - presses) < 1e-3):\n",
    "        total += 3 * presses[0] + presses[1]\n",
    "int(total)"
   ]
  },
  {
   "cell_type": "code",
   "execution_count": null,
   "id": "f13b0eb8-0d0e-4fca-b138-1abb174da007",
   "metadata": {},
   "outputs": [],
   "source": []
  }
 ],
 "metadata": {
  "kernelspec": {
   "display_name": "Python 3 (ipykernel)",
   "language": "python",
   "name": "python3"
  },
  "language_info": {
   "codemirror_mode": {
    "name": "ipython",
    "version": 3
   },
   "file_extension": ".py",
   "mimetype": "text/x-python",
   "name": "python",
   "nbconvert_exporter": "python",
   "pygments_lexer": "ipython3",
   "version": "3.8.10"
  }
 },
 "nbformat": 4,
 "nbformat_minor": 5
}
