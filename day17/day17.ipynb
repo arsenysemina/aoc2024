{
 "cells": [
  {
   "cell_type": "code",
   "execution_count": 479,
   "id": "6367a709-8708-4d3d-9e24-0428f5682651",
   "metadata": {
    "execution": {
     "iopub.execute_input": "2024-12-18T07:00:07.215993Z",
     "iopub.status.busy": "2024-12-18T07:00:07.215160Z",
     "iopub.status.idle": "2024-12-18T07:00:07.230590Z",
     "shell.execute_reply": "2024-12-18T07:00:07.229936Z",
     "shell.execute_reply.started": "2024-12-18T07:00:07.215878Z"
    }
   },
   "outputs": [
    {
     "name": "stdout",
     "output_type": "stream",
     "text": [
      "/home/arseny/advent_of_code_2024\n"
     ]
    }
   ],
   "source": [
    "%cd ~/advent_of_code_2024\n",
    "from utils.get_input import get_input\n",
    "data = get_input(17).strip()\n",
    "registers,program = data.split(\"\\n\\n\")\n",
    "import re\n",
    "registers = {re.search(\".{1}(?=:)\", row).group(0): int(re.search(\"\\d+\", row).group(0)) for row in registers.splitlines()}\n",
    "program = [int(n) for n in re.findall(\"\\d\",program)]"
   ]
  },
  {
   "cell_type": "code",
   "execution_count": 480,
   "id": "174bebaa-beb3-4102-b089-e23a4e2b082e",
   "metadata": {
    "execution": {
     "iopub.execute_input": "2024-12-18T07:00:07.580602Z",
     "iopub.status.busy": "2024-12-18T07:00:07.580277Z",
     "iopub.status.idle": "2024-12-18T07:00:07.590142Z",
     "shell.execute_reply": "2024-12-18T07:00:07.589553Z",
     "shell.execute_reply.started": "2024-12-18T07:00:07.580573Z"
    }
   },
   "outputs": [
    {
     "name": "stdout",
     "output_type": "stream",
     "text": [
      "3,6,7,0,5,7,3,1,4\n"
     ]
    }
   ],
   "source": [
    "import sys\n",
    "\n",
    "def combo_operand(operand): \n",
    "    if operand == 4:\n",
    "        operand = registers['A']\n",
    "    elif operand == 5:\n",
    "        operand = registers['B']\n",
    "    elif operand == 6:\n",
    "        operand = registers['C']\n",
    "        \n",
    "    return operand\n",
    "#0\n",
    "def adv(operand,ip):\n",
    "    operand = combo_operand(operand)\n",
    "    registers['A'] = registers['A']//(2**operand)\n",
    "    return ip + 2\n",
    "#1\n",
    "def bxl(operand,ip):\n",
    "    registers['B'] = registers['B'] ^ operand\n",
    "    return ip + 2\n",
    "#2\n",
    "def bst(operand,ip):\n",
    "    operand = combo_operand(operand)\n",
    "    registers['B'] = operand % 8\n",
    "    return ip + 2\n",
    "#3\n",
    "def jnz(operand,ip):\n",
    "    if registers['A'] == 0:\n",
    "        return ip + 2 \n",
    "    else:\n",
    "        return operand\n",
    "#4\n",
    "def bxc(operand,ip):\n",
    "    registers['B'] = registers['B'] ^ registers['C']\n",
    "    return ip + 2\n",
    "#5\n",
    "def out(operand,ip,output):\n",
    "    operand = combo_operand(operand)\n",
    "    output.append(operand%8)\n",
    "    return ip + 2\n",
    "#6\n",
    "def bdv(operand,ip):\n",
    "    operand = combo_operand(operand)\n",
    "    registers['B'] = registers['A']//(2**operand)\n",
    "    return ip + 2\n",
    "#7\n",
    "def cdv(operand,ip):\n",
    "    operand = combo_operand(operand)\n",
    "    registers['C'] = registers['A']//(2**operand)\n",
    "    return ip + 2\n",
    "\n",
    "\n",
    "def run(program):\n",
    "    functions = [adv,bxl,bst,jnz,bxc,out,bdv,cdv]\n",
    "    output = []\n",
    "    ip = 0\n",
    "    \n",
    "    while ip < len(program):\n",
    "        instruction,operand = functions[program[ip]], program[ip+1]\n",
    "        if program[ip] == 5:\n",
    "            ip = instruction(operand,ip,output)\n",
    "        else:\n",
    "            ip = instruction(operand,ip)\n",
    "    return output\n",
    "\n",
    "print(\",\".join(str(x) for x in run(program)))"
   ]
  },
  {
   "cell_type": "code",
   "execution_count": 483,
   "id": "97338315-1238-4fc1-928f-e4b7c4b321ae",
   "metadata": {
    "execution": {
     "iopub.execute_input": "2024-12-18T07:01:27.792713Z",
     "iopub.status.busy": "2024-12-18T07:01:27.792122Z",
     "iopub.status.idle": "2024-12-18T07:01:27.807400Z",
     "shell.execute_reply": "2024-12-18T07:01:27.806613Z",
     "shell.execute_reply.started": "2024-12-18T07:01:27.792637Z"
    }
   },
   "outputs": [
    {
     "data": {
      "text/plain": [
       "164278496489149"
      ]
     },
     "execution_count": 483,
     "metadata": {},
     "output_type": "execute_result"
    }
   ],
   "source": [
    "def check(i,A,program):\n",
    "    if (i<0):\n",
    "        return A\n",
    "    A, p, checks, dud = A*8, p\n",
    "    p = program[i]\n",
    "    checks = []\n",
    "    dud = True\n",
    "    for x in range(8):\n",
    "        registers['A'] = x+A\n",
    "        o = run(program[:len(program)-2])[0]\n",
    "        if o == p:\n",
    "            dud = False\n",
    "            checks.append(check(i-1,x+A,program))\n",
    "    if dud: return False\n",
    "    else:\n",
    "        for c in checks:\n",
    "            if c: return c\n",
    "        return False\n",
    "\n",
    "check(len(program)-1,0,program)"
   ]
  },
  {
   "cell_type": "code",
   "execution_count": null,
   "id": "dd5b4ccc-2ff6-42b9-8aa9-7098bb63ec6e",
   "metadata": {},
   "outputs": [],
   "source": []
  },
  {
   "cell_type": "code",
   "execution_count": null,
   "id": "2b9696c0-fabc-46c6-b49b-262bc2f27410",
   "metadata": {},
   "outputs": [],
   "source": []
  }
 ],
 "metadata": {
  "kernelspec": {
   "display_name": "Python 3 (ipykernel)",
   "language": "python",
   "name": "python3"
  },
  "language_info": {
   "codemirror_mode": {
    "name": "ipython",
    "version": 3
   },
   "file_extension": ".py",
   "mimetype": "text/x-python",
   "name": "python",
   "nbconvert_exporter": "python",
   "pygments_lexer": "ipython3",
   "version": "3.8.10"
  }
 },
 "nbformat": 4,
 "nbformat_minor": 5
}
