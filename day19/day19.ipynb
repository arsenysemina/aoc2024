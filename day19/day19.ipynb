{
 "cells": [
  {
   "cell_type": "code",
   "execution_count": 80,
   "id": "da89e956-5994-4b7b-8ec6-b2a3c2ff0f52",
   "metadata": {
    "execution": {
     "iopub.execute_input": "2024-12-19T10:15:30.156642Z",
     "iopub.status.busy": "2024-12-19T10:15:30.155851Z",
     "iopub.status.idle": "2024-12-19T10:15:30.172821Z",
     "shell.execute_reply": "2024-12-19T10:15:30.170724Z",
     "shell.execute_reply.started": "2024-12-19T10:15:30.156566Z"
    }
   },
   "outputs": [
    {
     "name": "stdout",
     "output_type": "stream",
     "text": [
      "/home/arseny/advent_of_code_2024\n"
     ]
    }
   ],
   "source": [
    "%cd ~/advent_of_code_2024\n",
    "from utils.get_input import get_input\n",
    "data = get_input(19).strip()\n",
    "patterns,towels = data.split(\"\\n\\n\")\n",
    "patterns = set(patterns.split(\", \"))\n",
    "towels = towels.splitlines()"
   ]
  },
  {
   "cell_type": "code",
   "execution_count": 81,
   "id": "0ad21674-e5e9-4b80-bcc6-0291a416452a",
   "metadata": {
    "execution": {
     "iopub.execute_input": "2024-12-19T10:15:35.939593Z",
     "iopub.status.busy": "2024-12-19T10:15:35.939314Z",
     "iopub.status.idle": "2024-12-19T10:15:35.943571Z",
     "shell.execute_reply": "2024-12-19T10:15:35.943035Z",
     "shell.execute_reply.started": "2024-12-19T10:15:35.939568Z"
    }
   },
   "outputs": [],
   "source": [
    "from functools import lru_cache\n",
    "\n",
    "@lru_cache(maxsize=None)\n",
    "def find_pattern(towel):\n",
    "    if len(towel) == 0:\n",
    "        return 1\n",
    "    total = 0\n",
    "    for i in range(1,len(towel)+1):\n",
    "        if towel[:i] in patterns:\n",
    "            total += find_pattern(towel[i:])\n",
    "            \n",
    "    return total   "
   ]
  },
  {
   "cell_type": "code",
   "execution_count": 84,
   "id": "90407b36-6fc7-460b-8414-8c134fc9889c",
   "metadata": {
    "execution": {
     "iopub.execute_input": "2024-12-19T10:17:28.528338Z",
     "iopub.status.busy": "2024-12-19T10:17:28.527795Z",
     "iopub.status.idle": "2024-12-19T10:17:28.535793Z",
     "shell.execute_reply": "2024-12-19T10:17:28.534722Z",
     "shell.execute_reply.started": "2024-12-19T10:17:28.528285Z"
    }
   },
   "outputs": [
    {
     "data": {
      "text/plain": [
       "206"
      ]
     },
     "execution_count": 84,
     "metadata": {},
     "output_type": "execute_result"
    }
   ],
   "source": [
    "c = 0\n",
    "for towel in towels:\n",
    "    if find_pattern(towel): c += 1\n",
    "c"
   ]
  },
  {
   "cell_type": "code",
   "execution_count": 83,
   "id": "393b8952-5398-498f-823a-72c0462694ca",
   "metadata": {
    "execution": {
     "iopub.execute_input": "2024-12-19T10:15:38.235144Z",
     "iopub.status.busy": "2024-12-19T10:15:38.233791Z",
     "iopub.status.idle": "2024-12-19T10:15:38.243867Z",
     "shell.execute_reply": "2024-12-19T10:15:38.242579Z",
     "shell.execute_reply.started": "2024-12-19T10:15:38.235084Z"
    }
   },
   "outputs": [
    {
     "data": {
      "text/plain": [
       "622121814629343"
      ]
     },
     "execution_count": 83,
     "metadata": {},
     "output_type": "execute_result"
    }
   ],
   "source": [
    "c = 0\n",
    "for towel in towels:\n",
    "    c += find_pattern(towel)\n",
    "c"
   ]
  },
  {
   "cell_type": "code",
   "execution_count": null,
   "id": "49df4813-9d1b-4eea-a947-5ed5d06969f5",
   "metadata": {},
   "outputs": [],
   "source": []
  }
 ],
 "metadata": {
  "kernelspec": {
   "display_name": "Python 3 (ipykernel)",
   "language": "python",
   "name": "python3"
  },
  "language_info": {
   "codemirror_mode": {
    "name": "ipython",
    "version": 3
   },
   "file_extension": ".py",
   "mimetype": "text/x-python",
   "name": "python",
   "nbconvert_exporter": "python",
   "pygments_lexer": "ipython3",
   "version": "3.8.10"
  }
 },
 "nbformat": 4,
 "nbformat_minor": 5
}
