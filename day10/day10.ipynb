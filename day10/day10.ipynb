{
 "cells": [
  {
   "cell_type": "code",
   "execution_count": 74,
   "id": "1ab56a4e-2f47-4352-95d9-38520d2282a2",
   "metadata": {
    "execution": {
     "iopub.execute_input": "2024-12-10T09:49:00.610377Z",
     "iopub.status.busy": "2024-12-10T09:49:00.609868Z",
     "iopub.status.idle": "2024-12-10T09:49:00.615577Z",
     "shell.execute_reply": "2024-12-10T09:49:00.615047Z",
     "shell.execute_reply.started": "2024-12-10T09:49:00.610353Z"
    }
   },
   "outputs": [
    {
     "name": "stdout",
     "output_type": "stream",
     "text": [
      "/home/arseny/advent_of_code_2024\n"
     ]
    }
   ],
   "source": [
    "%cd ~/advent_of_code_2024\n",
    "from utils.get_input import get_input\n",
    "data = get_input(10).strip()\n",
    "data = data.splitlines()\n",
    "data = [[int(c) for c in row] for row in data]"
   ]
  },
  {
   "cell_type": "code",
   "execution_count": 75,
   "id": "e64f6ce4-21c9-41f1-adb4-130eaa59009b",
   "metadata": {
    "execution": {
     "iopub.execute_input": "2024-12-10T09:49:00.834213Z",
     "iopub.status.busy": "2024-12-10T09:49:00.833910Z",
     "iopub.status.idle": "2024-12-10T09:49:00.837942Z",
     "shell.execute_reply": "2024-12-10T09:49:00.837406Z",
     "shell.execute_reply.started": "2024-12-10T09:49:00.834190Z"
    }
   },
   "outputs": [],
   "source": [
    "trailheads = []\n",
    "for i,row in enumerate(data):\n",
    "    for j,h in enumerate(row):\n",
    "        if h == 0:\n",
    "            trailheads.append((i,j))        "
   ]
  },
  {
   "cell_type": "code",
   "execution_count": 76,
   "id": "a214b7b6-dd76-42b7-a2d4-b840a991f27d",
   "metadata": {
    "execution": {
     "iopub.execute_input": "2024-12-10T09:49:01.152348Z",
     "iopub.status.busy": "2024-12-10T09:49:01.151607Z",
     "iopub.status.idle": "2024-12-10T09:49:01.158823Z",
     "shell.execute_reply": "2024-12-10T09:49:01.158134Z",
     "shell.execute_reply.started": "2024-12-10T09:49:01.152318Z"
    }
   },
   "outputs": [],
   "source": [
    "neighbors = [(0,-1),(0,1),(-1,0),(1,0)]\n",
    "\n",
    "# part 1\n",
    "def find_peaks(i,j,h):\n",
    "    if(data[i][j] == 9 and (i,j) not in peaks):\n",
    "        peaks.add((i,j))\n",
    "        return 1\n",
    "    trail_count = 0\n",
    "    for n in neighbors:\n",
    "        ni,nj = i+n[0],j+n[1]\n",
    "        if(0 <= ni < len(data) and 0 <= nj < len(data[0])):\n",
    "            if(data[ni][nj]-data[i][j] == 1):\n",
    "                trail_count += find_peaks(ni,nj,data[ni][nj])\n",
    "            \n",
    "    return trail_count\n",
    "\n",
    "# part 2\n",
    "def find_trails(i,j,h):\n",
    "    if(data[i][j] == 9):\n",
    "        return 1\n",
    "    trail_count = 0\n",
    "    for n in neighbors:\n",
    "        ni,nj = i+n[0],j+n[1]\n",
    "        if(0 <= ni < len(data) and 0 <= nj < len(data[0])):\n",
    "            if(data[ni][nj]-data[i][j] == 1):\n",
    "                trail_count += find_trails(ni,nj,data[ni][nj])\n",
    "            \n",
    "    return trail_count"
   ]
  },
  {
   "cell_type": "code",
   "execution_count": 77,
   "id": "761d3acd-e65e-4dc2-a3c6-47c3dcc20595",
   "metadata": {
    "execution": {
     "iopub.execute_input": "2024-12-10T09:49:01.667566Z",
     "iopub.status.busy": "2024-12-10T09:49:01.667265Z",
     "iopub.status.idle": "2024-12-10T09:49:01.685048Z",
     "shell.execute_reply": "2024-12-10T09:49:01.684530Z",
     "shell.execute_reply.started": "2024-12-10T09:49:01.667543Z"
    }
   },
   "outputs": [
    {
     "data": {
      "text/plain": [
       "744"
      ]
     },
     "execution_count": 77,
     "metadata": {},
     "output_type": "execute_result"
    }
   ],
   "source": [
    "total = 0\n",
    "for th in trailheads:\n",
    "    peaks = set()\n",
    "    total += find_peaks(th[0],th[1],0)\n",
    "total"
   ]
  },
  {
   "cell_type": "code",
   "execution_count": 78,
   "id": "0c84f392-8962-4adc-a23b-0cb029abe53a",
   "metadata": {
    "execution": {
     "iopub.execute_input": "2024-12-10T09:49:02.097004Z",
     "iopub.status.busy": "2024-12-10T09:49:02.096745Z",
     "iopub.status.idle": "2024-12-10T09:49:02.113023Z",
     "shell.execute_reply": "2024-12-10T09:49:02.112362Z",
     "shell.execute_reply.started": "2024-12-10T09:49:02.096983Z"
    }
   },
   "outputs": [
    {
     "data": {
      "text/plain": [
       "1651"
      ]
     },
     "execution_count": 78,
     "metadata": {},
     "output_type": "execute_result"
    }
   ],
   "source": [
    "total = 0\n",
    "for th in trailheads:\n",
    "    total += find_trails(th[0],th[1],0)\n",
    "total"
   ]
  },
  {
   "cell_type": "code",
   "execution_count": null,
   "id": "9e0edee8-fa37-417a-bc28-cc940f1cfe02",
   "metadata": {},
   "outputs": [],
   "source": []
  }
 ],
 "metadata": {
  "kernelspec": {
   "display_name": "Python 3 (ipykernel)",
   "language": "python",
   "name": "python3"
  },
  "language_info": {
   "codemirror_mode": {
    "name": "ipython",
    "version": 3
   },
   "file_extension": ".py",
   "mimetype": "text/x-python",
   "name": "python",
   "nbconvert_exporter": "python",
   "pygments_lexer": "ipython3",
   "version": "3.8.10"
  }
 },
 "nbformat": 4,
 "nbformat_minor": 5
}
