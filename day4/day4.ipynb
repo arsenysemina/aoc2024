{
 "cells": [
  {
   "cell_type": "code",
   "execution_count": 242,
   "id": "d10f6c07-5c07-461a-9d3a-c2b906cd987f",
   "metadata": {},
   "outputs": [
    {
     "name": "stdout",
     "output_type": "stream",
     "text": [
      "/home/arseny/advent_of_code_2024\n"
     ]
    }
   ],
   "source": [
    "%cd ~/advent_of_code_2024\n",
    "from utils.get_input import get_input\n",
    "data = get_input(4).strip()\n",
    "\n",
    "import numpy as np\n",
    "data = np.array([np.array(list(row)) for row in data.splitlines()])"
   ]
  },
  {
   "cell_type": "code",
   "execution_count": 243,
   "id": "53e0aebb-8632-48ca-a7b4-d22c10c7ee2b",
   "metadata": {},
   "outputs": [
    {
     "data": {
      "text/plain": [
       "2573"
      ]
     },
     "execution_count": 243,
     "metadata": {},
     "output_type": "execute_result"
    }
   ],
   "source": [
    "import re\n",
    "xmas_count = 0\n",
    "for _ in range(2):\n",
    "    for row in data:\n",
    "        s = \"\".join(row)\n",
    "        xmas_count += len(re.findall(\"(?=(XMAS|SAMX))\", s))\n",
    "    for i in range(-len(data)+1,len(data)):\n",
    "        s = \"\".join(data.diagonal(i))\n",
    "        xmas_count += len(re.findall(\"(?=(XMAS|SAMX))\", s))\n",
    "    data = np.rot90(data)\n",
    "\n",
    "xmas_count"
   ]
  },
  {
   "cell_type": "code",
   "execution_count": 244,
   "id": "4cebe39b-4310-4786-ab41-8065c9bbe093",
   "metadata": {},
   "outputs": [
    {
     "data": {
      "text/plain": [
       "1850"
      ]
     },
     "execution_count": 244,
     "metadata": {},
     "output_type": "execute_result"
    }
   ],
   "source": [
    "data = get_input(4).strip()\n",
    "data = np.array([np.array(list(row)) for row in data.splitlines()])\n",
    "x_tbdiag, x_btdiag = [],[]\n",
    "            \n",
    "for i in range(-len(data)+1,len(data)):\n",
    "    ch1, ch2, cv1, cv2 = '', '', '', ''\n",
    "    for j in range(len(data)-abs(i)):\n",
    "        if i < 0:\n",
    "            tb_x, bt_x = j, j\n",
    "            tb_y = len(data)+i-1-j\n",
    "            bt_y = -i+j\n",
    "        else:\n",
    "            tb_x, bt_x = i+j, i+j\n",
    "            tb_y = len(data)-1-j\n",
    "            bt_y = j\n",
    "        if ((ch1 == 'M' and data[tb_y][tb_x] == 'S') or (ch1 == 'S' and data[tb_y][tb_x] == 'M')) and ch2 == 'A':\n",
    "            x_tbdiag.append((tb_y+1,tb_x-1))\n",
    "        ch1 = ch2\n",
    "        ch2 = data[tb_y][tb_x]\n",
    "        if ((cv1 == 'M' and data[bt_y][bt_x] == 'S') or (cv1 == 'S' and data[bt_y][bt_x] == 'M')) and cv2 == 'A':\n",
    "            x_btdiag.append((bt_y-1,bt_x-1))\n",
    "        cv1 = cv2\n",
    "        cv2 = data[bt_y][bt_x]\n",
    "        \n",
    "len(set(x_tbdiag).intersection(x_btdiag))"
   ]
  },
  {
   "cell_type": "code",
   "execution_count": null,
   "id": "11c178af-49f5-4be0-91b7-fe90c8144602",
   "metadata": {},
   "outputs": [],
   "source": []
  },
  {
   "cell_type": "code",
   "execution_count": null,
   "id": "55b0a410-792c-4f28-be0d-431ef30e8644",
   "metadata": {},
   "outputs": [],
   "source": []
  },
  {
   "cell_type": "code",
   "execution_count": null,
   "id": "75aedb9a-535b-48f4-b074-d1f8ff78b6bd",
   "metadata": {},
   "outputs": [],
   "source": []
  },
  {
   "cell_type": "code",
   "execution_count": null,
   "id": "aa020802-e711-4e06-ac0d-00888632dbf6",
   "metadata": {},
   "outputs": [],
   "source": []
  }
 ],
 "metadata": {
  "kernelspec": {
   "display_name": "Python 3 (ipykernel)",
   "language": "python",
   "name": "python3"
  },
  "language_info": {
   "codemirror_mode": {
    "name": "ipython",
    "version": 3
   },
   "file_extension": ".py",
   "mimetype": "text/x-python",
   "name": "python",
   "nbconvert_exporter": "python",
   "pygments_lexer": "ipython3",
   "version": "3.8.10"
  }
 },
 "nbformat": 4,
 "nbformat_minor": 5
}
