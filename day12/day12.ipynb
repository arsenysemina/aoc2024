{
 "cells": [
  {
   "cell_type": "code",
   "execution_count": 159,
   "id": "e856d629-49df-4316-b6fe-15843287a5c4",
   "metadata": {
    "execution": {
     "iopub.execute_input": "2024-12-12T17:17:33.222443Z",
     "iopub.status.busy": "2024-12-12T17:17:33.222187Z",
     "iopub.status.idle": "2024-12-12T17:17:33.227328Z",
     "shell.execute_reply": "2024-12-12T17:17:33.226798Z",
     "shell.execute_reply.started": "2024-12-12T17:17:33.222417Z"
    }
   },
   "outputs": [
    {
     "name": "stdout",
     "output_type": "stream",
     "text": [
      "/home/arseny/advent_of_code_2024\n"
     ]
    }
   ],
   "source": [
    "%cd ~/advent_of_code_2024\n",
    "from utils.get_input import get_input\n",
    "data = get_input(12).strip()\n",
    "data = data.splitlines()"
   ]
  },
  {
   "cell_type": "code",
   "execution_count": 160,
   "id": "dccd1ef2-516c-4dce-9e27-aff5be6aa5d4",
   "metadata": {
    "execution": {
     "iopub.execute_input": "2024-12-12T17:17:33.506162Z",
     "iopub.status.busy": "2024-12-12T17:17:33.505905Z",
     "iopub.status.idle": "2024-12-12T17:17:33.557047Z",
     "shell.execute_reply": "2024-12-12T17:17:33.556306Z",
     "shell.execute_reply.started": "2024-12-12T17:17:33.506139Z"
    }
   },
   "outputs": [],
   "source": [
    "visited, regions = set(), []\n",
    "directions = [(1,0),(0,1),(-1,0),(0,-1)]\n",
    "\n",
    "def search(i,j,region):\n",
    "    region.add((i,j))\n",
    "    visited.add((i,j))\n",
    "    r = data[i][j]\n",
    "    for d in directions:\n",
    "        ni, nj = i+d[0], j+d[1]\n",
    "        if 0 <= ni < len(data) and 0 <= nj < len(data[0]) and (ni,nj) not in visited: \n",
    "            if data[ni][nj] == r:\n",
    "                search(ni,nj,region)\n",
    "\n",
    "for i,row in enumerate(data):\n",
    "    for j,c in enumerate(row):\n",
    "        if (i,j) not in visited:\n",
    "            p = set()\n",
    "            search(i,j,p)\n",
    "            regions.append(p)"
   ]
  },
  {
   "cell_type": "code",
   "execution_count": 161,
   "id": "3a1f5bb0-6250-4b76-8abc-5f1745d9d947",
   "metadata": {
    "execution": {
     "iopub.execute_input": "2024-12-12T17:17:33.857006Z",
     "iopub.status.busy": "2024-12-12T17:17:33.856743Z",
     "iopub.status.idle": "2024-12-12T17:17:33.890357Z",
     "shell.execute_reply": "2024-12-12T17:17:33.889580Z",
     "shell.execute_reply.started": "2024-12-12T17:17:33.856981Z"
    }
   },
   "outputs": [
    {
     "data": {
      "text/plain": [
       "1374934"
      ]
     },
     "execution_count": 161,
     "metadata": {},
     "output_type": "execute_result"
    }
   ],
   "source": [
    "total = 0\n",
    "for region in regions:\n",
    "    area = len(region)\n",
    "    perimeter = 0\n",
    "    for plot in region:\n",
    "        i,j = plot[0],plot[1]\n",
    "        for d in directions:\n",
    "            ni, nj = i+d[0], j+d[1]\n",
    "            if (ni,nj) not in region:\n",
    "                perimeter += 1\n",
    "    total += area*perimeter\n",
    "total"
   ]
  },
  {
   "cell_type": "code",
   "execution_count": 165,
   "id": "5f417728-ec4a-431c-88b3-faf390ae11de",
   "metadata": {
    "execution": {
     "iopub.execute_input": "2024-12-12T17:18:43.465264Z",
     "iopub.status.busy": "2024-12-12T17:18:43.464470Z",
     "iopub.status.idle": "2024-12-12T17:18:43.542974Z",
     "shell.execute_reply": "2024-12-12T17:18:43.542252Z",
     "shell.execute_reply.started": "2024-12-12T17:18:43.465186Z"
    }
   },
   "outputs": [
    {
     "data": {
      "text/plain": [
       "841078"
      ]
     },
     "execution_count": 165,
     "metadata": {},
     "output_type": "execute_result"
    }
   ],
   "source": [
    "edge_transforms = {(1,0):((1,0),(1,1)),\n",
    "                  (0,1):((1,1),(0,1)),\n",
    "                  (-1,0):((0,1),(0,0)),\n",
    "                  (0,-1):((0,0),(1,0))}\n",
    "\n",
    "def subtract_tuples(p1,p2):\n",
    "    return (p2[0]-p1[0],p2[1]-p1[1])\n",
    "\n",
    "region_edges = []\n",
    "for region in regions:\n",
    "    area, edges, p2s = len(region), {}, set()\n",
    "    for plot in region:\n",
    "        i,j = plot[0],plot[1]\n",
    "        for d in directions:\n",
    "            ni, nj = i+d[0], j+d[1]\n",
    "            if (ni,nj) not in region:\n",
    "                et = edge_transforms[d]\n",
    "                p1, p2 = (i+et[0][0],j+et[0][1]), (i+et[1][0],j+et[1][1])\n",
    "                \n",
    "                # handle moebius edge case\n",
    "                if p1 in edges: p1 = (p1[0],p1[1],1)\n",
    "                elif p2 in p2s: p2 = (p2[0],p2[1],1)\n",
    "                p2s.add(p2)\n",
    "        \n",
    "                edges[p1] = p2\n",
    "        \n",
    "    region_edges.append((area,edges))\n",
    "\n",
    "def find_corner(edges):\n",
    "    p1 = list(edges.keys())[0]\n",
    "    p2 = edges[p1]\n",
    "    d1 = subtract_tuples(p1,p2)\n",
    "    d2 = d1\n",
    "    while d1 == d2:\n",
    "        p1,d1 = p2,d2\n",
    "        p2 = edges[p1]\n",
    "        d2 = subtract_tuples(p1,p2)\n",
    "    return (p1,d2)\n",
    "\n",
    "total = 0\n",
    "for region in region_edges:\n",
    "    area, edges = region\n",
    "    visited, sides = set(), 0\n",
    "    while len(edges) > 0:\n",
    "        p1, d1 = find_corner(edges)\n",
    "        while p1 not in visited:\n",
    "            visited.add(p1)\n",
    "            p2 = edges[p1]\n",
    "            d2 = subtract_tuples(p1,p2)\n",
    "            if d1 != d2:\n",
    "                sides += 1\n",
    "                d1 = d2\n",
    "            del edges[p1]\n",
    "            p1 = p2\n",
    "        sides += 1\n",
    "\n",
    "    total += area*sides\n",
    "    \n",
    "total "
   ]
  },
  {
   "cell_type": "code",
   "execution_count": null,
   "id": "965488ef-b484-4de3-acec-dc5c201b0f04",
   "metadata": {},
   "outputs": [],
   "source": []
  }
 ],
 "metadata": {
  "kernelspec": {
   "display_name": "Python 3 (ipykernel)",
   "language": "python",
   "name": "python3"
  },
  "language_info": {
   "codemirror_mode": {
    "name": "ipython",
    "version": 3
   },
   "file_extension": ".py",
   "mimetype": "text/x-python",
   "name": "python",
   "nbconvert_exporter": "python",
   "pygments_lexer": "ipython3",
   "version": "3.8.10"
  }
 },
 "nbformat": 4,
 "nbformat_minor": 5
}
