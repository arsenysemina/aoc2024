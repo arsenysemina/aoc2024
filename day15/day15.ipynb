{
 "cells": [
  {
   "cell_type": "code",
   "execution_count": 242,
   "id": "973f9c00-d45a-42b1-9f84-5b2011fcea30",
   "metadata": {
    "execution": {
     "iopub.execute_input": "2024-12-16T00:36:50.178936Z",
     "iopub.status.busy": "2024-12-16T00:36:50.177377Z",
     "iopub.status.idle": "2024-12-16T00:36:50.194503Z",
     "shell.execute_reply": "2024-12-16T00:36:50.192868Z",
     "shell.execute_reply.started": "2024-12-16T00:36:50.178845Z"
    }
   },
   "outputs": [
    {
     "name": "stdout",
     "output_type": "stream",
     "text": [
      "/home/arseny/advent_of_code_2024\n"
     ]
    }
   ],
   "source": [
    "%cd ~/advent_of_code_2024\n",
    "from utils.get_input import get_input\n",
    "data = get_input(15).strip()\n",
    "warehouse,instructions = data.split(\"\\n\\n\")\n",
    "warehouse = warehouse.splitlines()\n",
    "instructions = instructions.replace(\"\\n\",\"\")"
   ]
  },
  {
   "cell_type": "code",
   "execution_count": 243,
   "id": "21759bc5-24ec-4066-86fe-1c8f6ccf6c3b",
   "metadata": {
    "execution": {
     "iopub.execute_input": "2024-12-16T00:36:51.336318Z",
     "iopub.status.busy": "2024-12-16T00:36:51.335986Z",
     "iopub.status.idle": "2024-12-16T00:36:51.343458Z",
     "shell.execute_reply": "2024-12-16T00:36:51.342687Z",
     "shell.execute_reply.started": "2024-12-16T00:36:51.336287Z"
    }
   },
   "outputs": [],
   "source": [
    "# warehouse = [\"########\",\n",
    "# \"#..O.O.#\",\n",
    "# \"##@.O..#\",\n",
    "# \"#...O..#\",\n",
    "# \"#.#.O..#\",\n",
    "# \"#...O..#\",\n",
    "# \"#......#\",\n",
    "# \"########\"]\n",
    "\n",
    "# instructions = \"<^^>>>vv<v>>v<<\"\n",
    "\n",
    "robot = (0,0)\n",
    "boxes = set()\n",
    "walls = set()\n",
    "for i,row in enumerate(warehouse):\n",
    "    for j,c in enumerate(row):\n",
    "        if c=='O': boxes.add((i,j))\n",
    "        elif c=='#': walls.add((i,j))\n",
    "        elif c == '@': robot = (i,j)\n",
    "\n",
    "\n",
    "def print_warehouse(walls,boxes,robot):\n",
    "    for i,row in enumerate(warehouse):\n",
    "        string = \"\"\n",
    "        for j,c in enumerate(row):\n",
    "            if (i,j) in walls:\n",
    "                string += \"#\"\n",
    "            elif (i,j) in boxes:\n",
    "                string += \"O\"\n",
    "            elif (i,j) == robot:\n",
    "                string += \"@\"\n",
    "            else:\n",
    "                string += \".\"\n",
    "        print(string)\n",
    "        "
   ]
  },
  {
   "cell_type": "code",
   "execution_count": 244,
   "id": "2e8dd52b-8bf1-4fa3-af15-b06f8f38b4c9",
   "metadata": {
    "execution": {
     "iopub.execute_input": "2024-12-16T00:36:52.564799Z",
     "iopub.status.busy": "2024-12-16T00:36:52.564466Z",
     "iopub.status.idle": "2024-12-16T00:36:52.592902Z",
     "shell.execute_reply": "2024-12-16T00:36:52.592282Z",
     "shell.execute_reply.started": "2024-12-16T00:36:52.564775Z"
    }
   },
   "outputs": [
    {
     "data": {
      "text/plain": [
       "1437174"
      ]
     },
     "execution_count": 244,
     "metadata": {},
     "output_type": "execute_result"
    }
   ],
   "source": [
    "directions = {\">\":(0,1),\"^\":(-1,0),\"<\":(0,-1),\"v\":(1,0)}\n",
    "for direction in instructions:\n",
    "    # print(direction)\n",
    "    # print_warehouse(walls,boxes,robot)\n",
    "    d = directions[direction]\n",
    "    move_list = [robot]\n",
    "    next_pos = (robot[0] + d[0], robot[1] + d[1])\n",
    "    while next_pos in boxes:\n",
    "        move_list.append(next_pos)\n",
    "        next_pos = (next_pos[0] + d[0], next_pos[1] + d[1])\n",
    "        \n",
    "    if next_pos not in walls:\n",
    "        robot = (move_list[0][0] + d[0], move_list[0][1] + d[1])\n",
    "        for i in range(len(move_list)-1,0,-1):\n",
    "            item = move_list[i]\n",
    "            boxes.remove(item)\n",
    "            boxes.add((item[0] + d[0], item[1] + d[1]))\n",
    "\n",
    "total = 0\n",
    "for box in boxes:\n",
    "    total += (box[0]*100) + box[1]\n",
    "total"
   ]
  },
  {
   "cell_type": "code",
   "execution_count": 245,
   "id": "9ed30844-6de9-46c3-b59b-96830b81c74e",
   "metadata": {
    "execution": {
     "iopub.execute_input": "2024-12-16T00:36:53.326983Z",
     "iopub.status.busy": "2024-12-16T00:36:53.326327Z",
     "iopub.status.idle": "2024-12-16T00:36:53.336963Z",
     "shell.execute_reply": "2024-12-16T00:36:53.336179Z",
     "shell.execute_reply.started": "2024-12-16T00:36:53.326956Z"
    }
   },
   "outputs": [],
   "source": [
    "robot = (0,0)\n",
    "warehouse2 = {}\n",
    "for i,row in enumerate(warehouse):\n",
    "    for j,c in enumerate(row):\n",
    "        if c=='O': \n",
    "            box = ((i,(j*2)),(i,(j*2)+1))\n",
    "            warehouse2[(i,(j*2))] = box\n",
    "            warehouse2[(i,(j*2)+1)] = box\n",
    "        elif c=='#': \n",
    "            warehouse2[(i,(j*2))] = '#'\n",
    "            warehouse2[(i,(j*2)+1)] = '#'\n",
    "        elif c == '@': \n",
    "            warehouse2[(i,(j*2))] = '@'\n",
    "            warehouse2[(i,(j*2)+1)] = '.'\n",
    "            robot = (i,(j*2))\n",
    "        else:\n",
    "            warehouse2[(i,(j*2))] = '.'\n",
    "            warehouse2[(i,(j*2)+1)] = '.'\n",
    "\n",
    "def print_warehouse2(warehouse2):\n",
    "    for i,row in enumerate(warehouse):\n",
    "        string = \"\"\n",
    "        for j,c in enumerate(row):\n",
    "            c1 = (i,j*2)\n",
    "            c2 = (i,(j*2)+1)\n",
    "            i1 = warehouse2[c1]\n",
    "            i2 = warehouse2[c2]\n",
    "            if isinstance(i1,tuple):\n",
    "                if i1[0] == c1:\n",
    "                    i1 = '['\n",
    "                    i2 = ']'\n",
    "                elif i1[1] == c1:\n",
    "                    i1 = ']'\n",
    "            if isinstance(i2,tuple):\n",
    "                if i2[0] == c2:\n",
    "                    i2 = '['\n",
    "            string += i1 + i2\n",
    "        print(string)"
   ]
  },
  {
   "cell_type": "code",
   "execution_count": 246,
   "id": "c4ea9910-11b0-4e46-ba9c-84d32445ee8c",
   "metadata": {
    "execution": {
     "iopub.execute_input": "2024-12-16T00:36:54.596895Z",
     "iopub.status.busy": "2024-12-16T00:36:54.596504Z",
     "iopub.status.idle": "2024-12-16T00:36:54.657615Z",
     "shell.execute_reply": "2024-12-16T00:36:54.657026Z",
     "shell.execute_reply.started": "2024-12-16T00:36:54.596871Z"
    }
   },
   "outputs": [
    {
     "data": {
      "text/plain": [
       "1437468"
      ]
     },
     "execution_count": 246,
     "metadata": {},
     "output_type": "execute_result"
    }
   ],
   "source": [
    "visited = set()\n",
    "def move_box(box,d,warehouse2):\n",
    "    move_list = [box]\n",
    "    visited.add(box)\n",
    "    (ibl,jbl),(ibr,jbr) = box\n",
    "    \n",
    "    new_r = warehouse2[(ibr + d[0], jbr + d[1])]\n",
    "    if new_r not in visited:\n",
    "        if new_r == \"#\": return False\n",
    "        elif isinstance(new_r, tuple):\n",
    "            result = move_box(new_r,d,warehouse2)\n",
    "            if result: \n",
    "                move_list += result\n",
    "            else: return False\n",
    "                \n",
    "    new_l = warehouse2[(ibl + d[0], jbl + d[1])]\n",
    "    if new_l not in visited:\n",
    "        if new_l == \"#\": return False\n",
    "        elif isinstance(new_l, tuple):\n",
    "            result = move_box(new_l,d,warehouse2)\n",
    "            if result: \n",
    "                move_list += result\n",
    "            else: return False\n",
    "\n",
    "    return move_list\n",
    "\n",
    "for direction in instructions:\n",
    "    visited = set()\n",
    "    # print_warehouse2(warehouse2)\n",
    "    # print(direction)\n",
    "    d = directions[direction]\n",
    "    move_list = []\n",
    "    next_pos = (robot[0] + d[0], robot[1] + d[1])\n",
    "    box_check = warehouse2[next_pos]\n",
    "    \n",
    "    if box_check == \"#\":\n",
    "        continue\n",
    "    elif isinstance(box_check, tuple):\n",
    "        result = move_box(box_check, d, warehouse2)\n",
    "        if result:\n",
    "            move_list = result\n",
    "        else: continue\n",
    "\n",
    "    old_warehouse_points = set()\n",
    "    new_warehouse_points_l = set()\n",
    "    new_warehouse_points = set()\n",
    "    for i in range(len(move_list)-1,-1,-1):\n",
    "        box = move_list[i]\n",
    "        (ibl,jbl),(ibr,jbr) = box\n",
    "        new_r = (ibr + d[0], jbr + d[1])\n",
    "        new_l = (ibl + d[0], jbl + d[1])\n",
    "        old_warehouse_points.update([(ibl,jbl),(ibr,jbr)])\n",
    "        new_warehouse_points.update([new_l,new_r])\n",
    "        new_warehouse_points_l.add(new_l)\n",
    "\n",
    "    empty_spaces = old_warehouse_points - new_warehouse_points\n",
    "    for space in empty_spaces:\n",
    "        warehouse2[space] = \".\"\n",
    "    for point in new_warehouse_points:\n",
    "        if point in new_warehouse_points_l:\n",
    "            warehouse2[point] = (point,(point[0],point[1]+1))\n",
    "        else:\n",
    "            warehouse2[point] = ((point[0],point[1]-1),point)\n",
    "        \n",
    "    warehouse2[robot] = \".\"\n",
    "    robot = next_pos\n",
    "    warehouse2[robot] = \"@\"\n",
    "\n",
    "total = 0\n",
    "for i, row in enumerate(warehouse):\n",
    "    for j in range((len(row)*2)-1):\n",
    "        pos = warehouse2[(i,j)]\n",
    "        if isinstance(pos,tuple):\n",
    "            if pos[0] == (i,j):\n",
    "                total += (i*100) + j\n",
    "total\n",
    "            "
   ]
  },
  {
   "cell_type": "code",
   "execution_count": null,
   "id": "82538a8c-9e55-4955-8b78-2e73ecf43163",
   "metadata": {},
   "outputs": [],
   "source": []
  }
 ],
 "metadata": {
  "kernelspec": {
   "display_name": "Python 3 (ipykernel)",
   "language": "python",
   "name": "python3"
  },
  "language_info": {
   "codemirror_mode": {
    "name": "ipython",
    "version": 3
   },
   "file_extension": ".py",
   "mimetype": "text/x-python",
   "name": "python",
   "nbconvert_exporter": "python",
   "pygments_lexer": "ipython3",
   "version": "3.8.10"
  }
 },
 "nbformat": 4,
 "nbformat_minor": 5
}
