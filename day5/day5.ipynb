{
 "cells": [
  {
   "cell_type": "code",
   "execution_count": 66,
   "id": "1b0ad4c1-fa48-43e0-b94f-58ce92fea6f1",
   "metadata": {
    "execution": {
     "iopub.execute_input": "2024-12-05T06:56:31.620189Z",
     "iopub.status.busy": "2024-12-05T06:56:31.619309Z",
     "iopub.status.idle": "2024-12-05T06:56:31.632494Z",
     "shell.execute_reply": "2024-12-05T06:56:31.631821Z",
     "shell.execute_reply.started": "2024-12-05T06:56:31.620101Z"
    }
   },
   "outputs": [
    {
     "name": "stdout",
     "output_type": "stream",
     "text": [
      "/home/arseny/advent_of_code_2024\n"
     ]
    }
   ],
   "source": [
    "%cd ~/advent_of_code_2024\n",
    "from utils.get_input import get_input\n",
    "import re\n",
    "data = get_input(5)\n",
    "\n",
    "rules = re.findall(\"\\d+\\|\\d+\",data)\n",
    "rules = [[int(x) for x in rule.split('|')] for rule in rules]\n",
    "\n",
    "# reverse rules and make a dict for fast lookup of pages that cannot be used\n",
    "rules_temp = {}\n",
    "for rule in rules:\n",
    "    if rule[1] in rules_temp:\n",
    "        rules_temp[rule[1]].add(rule[0])\n",
    "    else: \n",
    "        rules_temp[rule[1]] = {rule[0]}        \n",
    "rules = rules_temp\n",
    "\n",
    "updates = re.findall(\"(?:\\d+\\,)+\\d+\",data)\n",
    "updates = [[int(x) for x in update.split(',')] for update in updates]"
   ]
  },
  {
   "cell_type": "code",
   "execution_count": 67,
   "id": "16d15ef4-377b-46aa-9c22-440a19e7802b",
   "metadata": {
    "execution": {
     "iopub.execute_input": "2024-12-05T06:56:32.316048Z",
     "iopub.status.busy": "2024-12-05T06:56:32.315685Z",
     "iopub.status.idle": "2024-12-05T06:56:32.323321Z",
     "shell.execute_reply": "2024-12-05T06:56:32.322668Z",
     "shell.execute_reply.started": "2024-12-05T06:56:32.316020Z"
    }
   },
   "outputs": [
    {
     "data": {
      "text/plain": [
       "4462"
      ]
     },
     "execution_count": 67,
     "metadata": {},
     "output_type": "execute_result"
    }
   ],
   "source": [
    "middle_pages = []\n",
    "for update in updates:\n",
    "    forbidden_pages = set()\n",
    "    correct = True\n",
    "    for page in update:\n",
    "        if page in forbidden_pages:\n",
    "            correct = False\n",
    "            break\n",
    "        forbidden_pages = forbidden_pages|rules[page]\n",
    "    if correct:\n",
    "        middle_pages.append(update[int((len(update)-1)/2)])\n",
    "        \n",
    "sum(middle_pages)"
   ]
  },
  {
   "cell_type": "code",
   "execution_count": 68,
   "id": "0a977192-7f51-45aa-bd51-390c3b5acece",
   "metadata": {
    "execution": {
     "iopub.execute_input": "2024-12-05T06:56:33.615588Z",
     "iopub.status.busy": "2024-12-05T06:56:33.615206Z",
     "iopub.status.idle": "2024-12-05T06:56:53.781242Z",
     "shell.execute_reply": "2024-12-05T06:56:53.780704Z",
     "shell.execute_reply.started": "2024-12-05T06:56:33.615566Z"
    }
   },
   "outputs": [
    {
     "data": {
      "text/plain": [
       "6767"
      ]
     },
     "execution_count": 68,
     "metadata": {},
     "output_type": "execute_result"
    }
   ],
   "source": [
    "middle_pages = []\n",
    "for update in updates:\n",
    "    incorrect = False\n",
    "    while True:\n",
    "        forbidden_pages = set()\n",
    "        seen_pages = dict()\n",
    "        incorrect_index = 0\n",
    "        for i, page in enumerate(update):\n",
    "            if page in forbidden_pages:\n",
    "                incorrect = True\n",
    "                incorrect_index = i\n",
    "                break\n",
    "            forbidden_pages = forbidden_pages|rules[page]\n",
    "            seen_pages.update({forbidden_page:i for forbidden_page in rules[page] if forbidden_page not in seen_pages} ) \n",
    "        if incorrect_index == 0:\n",
    "            break\n",
    "        else:\n",
    "            swap_i = seen_pages[update[incorrect_index]]\n",
    "            tmp = update[incorrect_index]\n",
    "            update[swap\n",
    "    if incorrect:\n",
    "        middle_pages.append(update[int((len(update)-1)/2)])\n",
    "        \n",
    "sum(middle_pages)"
   ]
  },
  {
   "cell_type": "code",
   "execution_count": null,
   "id": "e8b7135b-fdae-44e1-aa04-56832a8ed1c6",
   "metadata": {},
   "outputs": [],
   "source": []
  },
  {
   "cell_type": "code",
   "execution_count": null,
   "id": "a1f75eb5-5508-4721-b407-d7172800d23c",
   "metadata": {},
   "outputs": [],
   "source": []
  },
  {
   "cell_type": "code",
   "execution_count": null,
   "id": "fa227f1a-61d7-4d6f-a409-f8da7c330842",
   "metadata": {},
   "outputs": [],
   "source": []
  }
 ],
 "metadata": {
  "kernelspec": {
   "display_name": "Python 3 (ipykernel)",
   "language": "python",
   "name": "python3"
  },
  "language_info": {
   "codemirror_mode": {
    "name": "ipython",
    "version": 3
   },
   "file_extension": ".py",
   "mimetype": "text/x-python",
   "name": "python",
   "nbconvert_exporter": "python",
   "pygments_lexer": "ipython3",
   "version": "3.8.10"
  }
 },
 "nbformat": 4,
 "nbformat_minor": 5
}
