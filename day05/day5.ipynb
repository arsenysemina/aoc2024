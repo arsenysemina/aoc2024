{
 "cells": [
  {
   "cell_type": "code",
   "execution_count": 85,
   "id": "1b0ad4c1-fa48-43e0-b94f-58ce92fea6f1",
   "metadata": {
    "execution": {
     "iopub.execute_input": "2024-12-05T22:48:49.104562Z",
     "iopub.status.busy": "2024-12-05T22:48:49.103789Z",
     "iopub.status.idle": "2024-12-05T22:48:49.127603Z",
     "shell.execute_reply": "2024-12-05T22:48:49.126754Z",
     "shell.execute_reply.started": "2024-12-05T22:48:49.104489Z"
    }
   },
   "outputs": [
    {
     "name": "stdout",
     "output_type": "stream",
     "text": [
      "/home/arseny/advent_of_code_2024\n"
     ]
    }
   ],
   "source": [
    "%cd ~/advent_of_code_2024\n",
    "from utils.get_input import get_input\n",
    "import re\n",
    "data = get_input(5)\n",
    "\n",
    "rules = re.findall(\"\\d+\\|\\d+\",data)\n",
    "rules = [[int(x) for x in rule.split('|')] for rule in rules]\n",
    "\n",
    "rules_rl_temp = {}\n",
    "rules_lr_temp = {}\n",
    "for rule in rules:\n",
    "    if rule[1] in rules_rl_temp:\n",
    "        rules_rl_temp[rule[1]].add(rule[0])\n",
    "    else: \n",
    "        rules_rl_temp[rule[1]] = {rule[0]}  \n",
    "        \n",
    "    if rule[0] in rules_lr_temp:\n",
    "        rules_lr_temp[rule[0]].add(rule[1])\n",
    "    else: \n",
    "        rules_lr_temp[rule[0]] = {rule[1]}     \n",
    "        \n",
    "rules_rl = rules_rl_temp\n",
    "rules_lr = rules_lr_temp\n",
    "\n",
    "updates = re.findall(\"(?:\\d+\\,)+\\d+\",data)\n",
    "updates = [[int(x) for x in update.split(',')] for update in updates]"
   ]
  },
  {
   "cell_type": "code",
   "execution_count": 86,
   "id": "16d15ef4-377b-46aa-9c22-440a19e7802b",
   "metadata": {
    "execution": {
     "iopub.execute_input": "2024-12-05T22:48:50.640075Z",
     "iopub.status.busy": "2024-12-05T22:48:50.639377Z",
     "iopub.status.idle": "2024-12-05T22:48:50.651409Z",
     "shell.execute_reply": "2024-12-05T22:48:50.650421Z",
     "shell.execute_reply.started": "2024-12-05T22:48:50.640037Z"
    }
   },
   "outputs": [
    {
     "data": {
      "text/plain": [
       "4462"
      ]
     },
     "execution_count": 86,
     "metadata": {},
     "output_type": "execute_result"
    }
   ],
   "source": [
    "middle_pages = []\n",
    "for update in updates:\n",
    "    forbidden_pages = set()\n",
    "    correct = True\n",
    "    for page in update:\n",
    "        if page in forbidden_pages:\n",
    "            correct = False\n",
    "            break\n",
    "        forbidden_pages = forbidden_pages|rules_rl[page]\n",
    "    if correct:\n",
    "        middle_pages.append(update[int((len(update)-1)/2)])\n",
    "        \n",
    "sum(middle_pages)"
   ]
  },
  {
   "cell_type": "code",
   "execution_count": 92,
   "id": "0a977192-7f51-45aa-bd51-390c3b5acece",
   "metadata": {
    "execution": {
     "iopub.execute_input": "2024-12-05T22:59:17.423515Z",
     "iopub.status.busy": "2024-12-05T22:59:17.422362Z",
     "iopub.status.idle": "2024-12-05T22:59:17.447063Z",
     "shell.execute_reply": "2024-12-05T22:59:17.446226Z",
     "shell.execute_reply.started": "2024-12-05T22:59:17.423403Z"
    }
   },
   "outputs": [
    {
     "data": {
      "text/plain": [
       "6767"
      ]
     },
     "execution_count": 92,
     "metadata": {},
     "output_type": "execute_result"
    }
   ],
   "source": [
    "from functools import cmp_to_key\n",
    "\n",
    "def compare(page1, page2):\n",
    "    if page2 in rules_lr[page1]:\n",
    "        return -1\n",
    "    elif page1 in rules_lr[page2]:\n",
    "        return 1\n",
    "    else:\n",
    "        return 0\n",
    "        \n",
    "middle_pages = []\n",
    "for update in updates:\n",
    "    forbidden_pages = set()\n",
    "    correct = True\n",
    "    for page in update:\n",
    "        if page in forbidden_pages:\n",
    "            correct = False\n",
    "            break\n",
    "        forbidden_pages = forbidden_pages|rules_rl[page]\n",
    "        \n",
    "    if not correct:\n",
    "        update = sorted(update, key=cmp_to_key(compare))\n",
    "        middle_pages.append(update[int((len(update)-1)/2)])\n",
    "        \n",
    "sum(middle_pages)"
   ]
  },
  {
   "cell_type": "code",
   "execution_count": null,
   "id": "e8b7135b-fdae-44e1-aa04-56832a8ed1c6",
   "metadata": {},
   "outputs": [],
   "source": []
  },
  {
   "cell_type": "code",
   "execution_count": null,
   "id": "a1f75eb5-5508-4721-b407-d7172800d23c",
   "metadata": {},
   "outputs": [],
   "source": []
  },
  {
   "cell_type": "code",
   "execution_count": null,
   "id": "fa227f1a-61d7-4d6f-a409-f8da7c330842",
   "metadata": {},
   "outputs": [],
   "source": []
  }
 ],
 "metadata": {
  "kernelspec": {
   "display_name": "Python 3 (ipykernel)",
   "language": "python",
   "name": "python3"
  },
  "language_info": {
   "codemirror_mode": {
    "name": "ipython",
    "version": 3
   },
   "file_extension": ".py",
   "mimetype": "text/x-python",
   "name": "python",
   "nbconvert_exporter": "python",
   "pygments_lexer": "ipython3",
   "version": "3.8.10"
  }
 },
 "nbformat": 4,
 "nbformat_minor": 5
}
