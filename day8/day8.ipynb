{
 "cells": [
  {
   "cell_type": "code",
   "execution_count": 26,
   "id": "f66891ff-4a33-44b1-9c5e-991f39c964de",
   "metadata": {
    "execution": {
     "iopub.execute_input": "2024-12-08T14:26:04.879034Z",
     "iopub.status.busy": "2024-12-08T14:26:04.877071Z",
     "iopub.status.idle": "2024-12-08T14:26:04.894520Z",
     "shell.execute_reply": "2024-12-08T14:26:04.892224Z",
     "shell.execute_reply.started": "2024-12-08T14:26:04.878947Z"
    }
   },
   "outputs": [
    {
     "name": "stdout",
     "output_type": "stream",
     "text": [
      "/home/arseny/advent_of_code_2024\n"
     ]
    }
   ],
   "source": [
    "%cd ~/advent_of_code_2024\n",
    "from utils.get_input import get_input\n",
    "data = get_input(8).strip()\n",
    "data = [list(row) for row in data.splitlines()]"
   ]
  },
  {
   "cell_type": "code",
   "execution_count": 36,
   "id": "a4bab109-b22f-401b-9542-710538470ab3",
   "metadata": {
    "execution": {
     "iopub.execute_input": "2024-12-08T14:43:57.244735Z",
     "iopub.status.busy": "2024-12-08T14:43:57.243353Z",
     "iopub.status.idle": "2024-12-08T14:43:57.252726Z",
     "shell.execute_reply": "2024-12-08T14:43:57.252057Z",
     "shell.execute_reply.started": "2024-12-08T14:43:57.244671Z"
    }
   },
   "outputs": [
    {
     "data": {
      "text/plain": [
       "[['.', '.', '.', '.', '.', '.', '.', '.', '.', '.', '.', '.'],\n",
       " ['.', '.', '.', '.', '.', '.', '.', '.', '0', '.', '.', '.'],\n",
       " ['.', '.', '.', '.', '.', '0', '.', '.', '.', '.', '.', '.'],\n",
       " ['.', '.', '.', '.', '.', '.', '.', '0', '.', '.', '.', '.'],\n",
       " ['.', '.', '.', '.', '0', '.', '.', '.', '.', '.', '.', '.'],\n",
       " ['.', '.', '.', '.', '.', '.', 'A', '.', '.', '.', '.', '.'],\n",
       " ['.', '.', '.', '.', '.', '.', '.', '.', '.', '.', '.', '.'],\n",
       " ['.', '.', '.', '.', '.', '.', '.', '.', '.', '.', '.', '.'],\n",
       " ['.', '.', '.', '.', '.', '.', '.', '.', 'A', '.', '.', '.'],\n",
       " ['.', '.', '.', '.', '.', '.', '.', '.', '.', 'A', '.', '.'],\n",
       " ['.', '.', '.', '.', '.', '.', '.', '.', '.', '.', '.', '.'],\n",
       " ['.', '.', '.', '.', '.', '.', '.', '.', '.', '.', '.', '.']]"
      ]
     },
     "execution_count": 36,
     "metadata": {},
     "output_type": "execute_result"
    }
   ],
   "source": [
    "data = [\"............\",\n",
    "\"........0...\",\n",
    "\".....0......\",\n",
    "\".......0....\",\n",
    "\"....0.......\",\n",
    "\"......A.....\",\n",
    "\"............\",\n",
    "\"............\",\n",
    "\"........A...\",\n",
    "\".........A..\",\n",
    "\"............\",\n",
    "\"............\"]\n",
    "data = [list(row) for row in data]\n",
    "data"
   ]
  },
  {
   "cell_type": "code",
   "execution_count": 37,
   "id": "13a8fc36-e9ab-46c3-ba17-f1e6c3da44ca",
   "metadata": {
    "execution": {
     "iopub.execute_input": "2024-12-08T14:43:59.017288Z",
     "iopub.status.busy": "2024-12-08T14:43:59.015538Z",
     "iopub.status.idle": "2024-12-08T14:43:59.024879Z",
     "shell.execute_reply": "2024-12-08T14:43:59.024182Z",
     "shell.execute_reply.started": "2024-12-08T14:43:59.017166Z"
    }
   },
   "outputs": [],
   "source": [
    "nodes = {}\n",
    "for i in range(len(data)):\n",
    "    for j in range(len(data[0])):\n",
    "        curr = data[i][j]\n",
    "        if curr != '.':\n",
    "            if curr in nodes:\n",
    "                nodes[curr].append((i,j))\n",
    "            else:\n",
    "                nodes[curr] = [(i,j)]"
   ]
  },
  {
   "cell_type": "code",
   "execution_count": 38,
   "id": "6b27aa0e-7f89-4af3-8333-d29d61d0c421",
   "metadata": {
    "execution": {
     "iopub.execute_input": "2024-12-08T14:44:00.952424Z",
     "iopub.status.busy": "2024-12-08T14:44:00.952055Z",
     "iopub.status.idle": "2024-12-08T14:44:00.960288Z",
     "shell.execute_reply": "2024-12-08T14:44:00.959567Z",
     "shell.execute_reply.started": "2024-12-08T14:44:00.952396Z"
    }
   },
   "outputs": [
    {
     "data": {
      "text/plain": [
       "14"
      ]
     },
     "execution_count": 38,
     "metadata": {},
     "output_type": "execute_result"
    }
   ],
   "source": [
    "antinodes = set()\n",
    "for key, node in nodes.items():\n",
    "    start = 0\n",
    "    while start+1 < len(node):\n",
    "        for curr in range(start+1,len(node)):\n",
    "            si,sj = node[start][0],node[start][1]\n",
    "            i,j = node[curr][0],node[curr][1]\n",
    "            i_dis, j_dis = si-i, sj-j\n",
    "            ais = [(i-i_dis,j-j_dis),(si+i_dis,sj+j_dis)]\n",
    "            for ai in ais:\n",
    "                if ai[0] >= 0 and ai[0] < len(data) and ai[1] >= 0 and ai[1] < len(data[0]):\n",
    "                    antinodes.add(ai)\n",
    "        start = start+1\n",
    "                    \n",
    "len(antinodes)\n",
    "            "
   ]
  },
  {
   "cell_type": "code",
   "execution_count": 39,
   "id": "6d64403f-85be-4580-b39e-6031907a3459",
   "metadata": {
    "execution": {
     "iopub.execute_input": "2024-12-08T14:44:03.628278Z",
     "iopub.status.busy": "2024-12-08T14:44:03.627993Z",
     "iopub.status.idle": "2024-12-08T14:44:03.638364Z",
     "shell.execute_reply": "2024-12-08T14:44:03.637841Z",
     "shell.execute_reply.started": "2024-12-08T14:44:03.628252Z"
    }
   },
   "outputs": [
    {
     "data": {
      "text/plain": [
       "33"
      ]
     },
     "execution_count": 39,
     "metadata": {},
     "output_type": "execute_result"
    }
   ],
   "source": [
    "antinodes = set()\n",
    "for key, node in nodes.items():\n",
    "    start = 0\n",
    "    antinodes.add(node[len(node)])\n",
    "    while start+1 < len(node):\n",
    "        antinodes.add(node[start])\n",
    "        for curr in range(start+1,len(node)):\n",
    "            si,sj = node[start][0],node[start][1]\n",
    "            i,j = node[curr][0],node[curr][1]\n",
    "            i_dis, j_dis = si-i, sj-j\n",
    "            in_bounds_1, in_bounds_2 = True, True\n",
    "            ais = [(i-i_dis,j-j_dis),(si+i_dis,sj+j_dis)]\n",
    "            while in_bounds_1 or in_bounds_2:\n",
    "                ai = ais[0]\n",
    "                if in_bounds_1 and ai[0] >= 0 and ai[0] < len(data) and ai[1] >= 0 and ai[1] < len(data[0]):\n",
    "                    antinodes.add(ai)\n",
    "                else:\n",
    "                    in_bounds_1 = False\n",
    "                    \n",
    "                ai = ais[1]\n",
    "                if in_bounds_2 and ai[0] >= 0 and ai[0] < len(data) and ai[1] >= 0 and ai[1] < len(data[0]):\n",
    "                    antinodes.add(ai)\n",
    "                else:\n",
    "                    in_bounds_2 = False\n",
    "\n",
    "                ais[0] = (ais[0][0]-i_dis,ais[0][1]-j_dis)\n",
    "                ais[1] = (ais[1][0]+i_dis,ais[1][1]+j_dis)\n",
    "                \n",
    "        start = start+1\n",
    "                    \n",
    "len(antinodes)\n",
    "            "
   ]
  },
  {
   "cell_type": "code",
   "execution_count": 41,
   "id": "afbea97c-f589-42ea-971a-cb8ed3dce02d",
   "metadata": {
    "execution": {
     "iopub.execute_input": "2024-12-08T14:45:07.467416Z",
     "iopub.status.busy": "2024-12-08T14:45:07.466568Z",
     "iopub.status.idle": "2024-12-08T14:45:07.473091Z",
     "shell.execute_reply": "2024-12-08T14:45:07.472366Z",
     "shell.execute_reply.started": "2024-12-08T14:45:07.467337Z"
    }
   },
   "outputs": [],
   "source": [
    "for a in antinodes:\n",
    "    data[a[0]][a[1]] = '#'"
   ]
  },
  {
   "cell_type": "code",
   "execution_count": 44,
   "id": "edc57182-b0ba-4f5f-80de-23159c42e3cb",
   "metadata": {
    "execution": {
     "iopub.execute_input": "2024-12-08T14:46:25.752353Z",
     "iopub.status.busy": "2024-12-08T14:46:25.752006Z",
     "iopub.status.idle": "2024-12-08T14:46:25.756139Z",
     "shell.execute_reply": "2024-12-08T14:46:25.755407Z",
     "shell.execute_reply.started": "2024-12-08T14:46:25.752325Z"
    }
   },
   "outputs": [],
   "source": [
    "data = [''.join(row) for row in data]"
   ]
  },
  {
   "cell_type": "code",
   "execution_count": 45,
   "id": "d867d23a-049d-4da9-8705-bda73d5bf2b2",
   "metadata": {
    "execution": {
     "iopub.execute_input": "2024-12-08T14:46:27.283695Z",
     "iopub.status.busy": "2024-12-08T14:46:27.282877Z",
     "iopub.status.idle": "2024-12-08T14:46:27.298989Z",
     "shell.execute_reply": "2024-12-08T14:46:27.296249Z",
     "shell.execute_reply.started": "2024-12-08T14:46:27.283614Z"
    }
   },
   "outputs": [
    {
     "data": {
      "text/plain": [
       "['##....#....#',\n",
       " '.#.#....#...',\n",
       " '..#.##....#.',\n",
       " '..##...#....',\n",
       " '....#....#..',\n",
       " '.#...##....#',\n",
       " '...#..#.....',\n",
       " '#....#.#....',\n",
       " '..#.....#...',\n",
       " '....#....A..',\n",
       " '.#........#.',\n",
       " '...#......##']"
      ]
     },
     "execution_count": 45,
     "metadata": {},
     "output_type": "execute_result"
    }
   ],
   "source": [
    "data"
   ]
  },
  {
   "cell_type": "code",
   "execution_count": null,
   "id": "434cd305-b575-484c-8dcb-25f105ad9e69",
   "metadata": {},
   "outputs": [],
   "source": []
  }
 ],
 "metadata": {
  "kernelspec": {
   "display_name": "Python 3 (ipykernel)",
   "language": "python",
   "name": "python3"
  },
  "language_info": {
   "codemirror_mode": {
    "name": "ipython",
    "version": 3
   },
   "file_extension": ".py",
   "mimetype": "text/x-python",
   "name": "python",
   "nbconvert_exporter": "python",
   "pygments_lexer": "ipython3",
   "version": "3.8.10"
  }
 },
 "nbformat": 4,
 "nbformat_minor": 5
}
