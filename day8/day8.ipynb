{
 "cells": [
  {
   "cell_type": "code",
   "execution_count": 52,
   "id": "f66891ff-4a33-44b1-9c5e-991f39c964de",
   "metadata": {
    "execution": {
     "iopub.execute_input": "2024-12-08T14:48:58.684712Z",
     "iopub.status.busy": "2024-12-08T14:48:58.684140Z",
     "iopub.status.idle": "2024-12-08T14:48:58.691421Z",
     "shell.execute_reply": "2024-12-08T14:48:58.690900Z",
     "shell.execute_reply.started": "2024-12-08T14:48:58.684687Z"
    }
   },
   "outputs": [
    {
     "name": "stdout",
     "output_type": "stream",
     "text": [
      "/home/arseny/advent_of_code_2024\n"
     ]
    }
   ],
   "source": [
    "%cd ~/advent_of_code_2024\n",
    "from utils.get_input import get_input\n",
    "data = get_input(8).strip()\n",
    "data = [list(row) for row in data.splitlines()]\n",
    "nodes = {}\n",
    "for i in range(len(data)):\n",
    "    for j in range(len(data[0])):\n",
    "        curr = data[i][j]\n",
    "        if curr != '.':\n",
    "            if curr in nodes:\n",
    "                nodes[curr].append((i,j))\n",
    "            else:\n",
    "                nodes[curr] = [(i,j)]"
   ]
  },
  {
   "cell_type": "code",
   "execution_count": 53,
   "id": "6b27aa0e-7f89-4af3-8333-d29d61d0c421",
   "metadata": {
    "execution": {
     "iopub.execute_input": "2024-12-08T14:49:02.973153Z",
     "iopub.status.busy": "2024-12-08T14:49:02.971503Z",
     "iopub.status.idle": "2024-12-08T14:49:02.985953Z",
     "shell.execute_reply": "2024-12-08T14:49:02.985198Z",
     "shell.execute_reply.started": "2024-12-08T14:49:02.973084Z"
    }
   },
   "outputs": [
    {
     "data": {
      "text/plain": [
       "359"
      ]
     },
     "execution_count": 53,
     "metadata": {},
     "output_type": "execute_result"
    }
   ],
   "source": [
    "antinodes = set()\n",
    "for key, node in nodes.items():\n",
    "    start = 0\n",
    "    while start+1 < len(node):\n",
    "        for curr in range(start+1,len(node)):\n",
    "            si,sj = node[start][0],node[start][1]\n",
    "            i,j = node[curr][0],node[curr][1]\n",
    "            i_dis, j_dis = si-i, sj-j\n",
    "            ais = [(i-i_dis,j-j_dis),(si+i_dis,sj+j_dis)]\n",
    "            for ai in ais:\n",
    "                if ai[0] >= 0 and ai[0] < len(data) and ai[1] >= 0 and ai[1] < len(data[0]):\n",
    "                    antinodes.add(ai)\n",
    "        start = start+1\n",
    "                    \n",
    "len(antinodes)\n",
    "            "
   ]
  },
  {
   "cell_type": "code",
   "execution_count": 54,
   "id": "6d64403f-85be-4580-b39e-6031907a3459",
   "metadata": {
    "execution": {
     "iopub.execute_input": "2024-12-08T14:49:08.366813Z",
     "iopub.status.busy": "2024-12-08T14:49:08.366309Z",
     "iopub.status.idle": "2024-12-08T14:49:08.384630Z",
     "shell.execute_reply": "2024-12-08T14:49:08.383940Z",
     "shell.execute_reply.started": "2024-12-08T14:49:08.366762Z"
    }
   },
   "outputs": [
    {
     "data": {
      "text/plain": [
       "1293"
      ]
     },
     "execution_count": 54,
     "metadata": {},
     "output_type": "execute_result"
    }
   ],
   "source": [
    "antinodes = set()\n",
    "for key, node in nodes.items():\n",
    "    start = 0\n",
    "    antinodes.add(node[len(node)-1])\n",
    "    while start+1 < len(node):\n",
    "        antinodes.add(node[start])\n",
    "        for curr in range(start+1,len(node)):\n",
    "            si,sj = node[start][0],node[start][1]\n",
    "            i,j = node[curr][0],node[curr][1]\n",
    "            i_dis, j_dis = si-i, sj-j\n",
    "            in_bounds_1, in_bounds_2 = True, True\n",
    "            ais = [(i-i_dis,j-j_dis),(si+i_dis,sj+j_dis)]\n",
    "            while in_bounds_1 or in_bounds_2:\n",
    "                ai = ais[0]\n",
    "                if in_bounds_1 and ai[0] >= 0 and ai[0] < len(data) and ai[1] >= 0 and ai[1] < len(data[0]):\n",
    "                    antinodes.add(ai)\n",
    "                else:\n",
    "                    in_bounds_1 = False\n",
    "                    \n",
    "                ai = ais[1]\n",
    "                if in_bounds_2 and ai[0] >= 0 and ai[0] < len(data) and ai[1] >= 0 and ai[1] < len(data[0]):\n",
    "                    antinodes.add(ai)\n",
    "                else:\n",
    "                    in_bounds_2 = False\n",
    "\n",
    "                ais[0] = (ais[0][0]-i_dis,ais[0][1]-j_dis)\n",
    "                ais[1] = (ais[1][0]+i_dis,ais[1][1]+j_dis)\n",
    "                \n",
    "        start = start+1\n",
    "                    \n",
    "len(antinodes)\n",
    "            "
   ]
  },
  {
   "cell_type": "code",
   "execution_count": null,
   "id": "f00c6c12-2eeb-44e1-bb1e-c847b6829944",
   "metadata": {},
   "outputs": [],
   "source": []
  }
 ],
 "metadata": {
  "kernelspec": {
   "display_name": "Python 3 (ipykernel)",
   "language": "python",
   "name": "python3"
  },
  "language_info": {
   "codemirror_mode": {
    "name": "ipython",
    "version": 3
   },
   "file_extension": ".py",
   "mimetype": "text/x-python",
   "name": "python",
   "nbconvert_exporter": "python",
   "pygments_lexer": "ipython3",
   "version": "3.8.10"
  }
 },
 "nbformat": 4,
 "nbformat_minor": 5
}
