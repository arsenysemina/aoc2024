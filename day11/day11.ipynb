{
 "cells": [
  {
   "cell_type": "code",
   "execution_count": 119,
   "id": "e6342e20-3b2b-484d-96c0-811bbc5d415f",
   "metadata": {
    "execution": {
     "iopub.execute_input": "2024-12-11T18:45:52.334722Z",
     "iopub.status.busy": "2024-12-11T18:45:52.333903Z",
     "iopub.status.idle": "2024-12-11T18:45:52.341643Z",
     "shell.execute_reply": "2024-12-11T18:45:52.341012Z",
     "shell.execute_reply.started": "2024-12-11T18:45:52.334643Z"
    }
   },
   "outputs": [
    {
     "name": "stdout",
     "output_type": "stream",
     "text": [
      "/home/arseny/advent_of_code_2024\n"
     ]
    }
   ],
   "source": [
    "%cd ~/advent_of_code_2024\n",
    "from utils.get_input import get_input\n",
    "data = get_input(11).strip()\n",
    "import numpy as np\n",
    "stones = [int(x) for x in data.split(\" \")]\n",
    "stones2 = stones.copy()"
   ]
  },
  {
   "cell_type": "code",
   "execution_count": 120,
   "id": "cce6907a-645c-4777-a1d3-1072de940576",
   "metadata": {
    "execution": {
     "iopub.execute_input": "2024-12-11T18:45:52.689328Z",
     "iopub.status.busy": "2024-12-11T18:45:52.689012Z",
     "iopub.status.idle": "2024-12-11T18:45:53.267402Z",
     "shell.execute_reply": "2024-12-11T18:45:53.266771Z",
     "shell.execute_reply.started": "2024-12-11T18:45:52.689303Z"
    }
   },
   "outputs": [
    {
     "data": {
      "text/plain": [
       "199753"
      ]
     },
     "execution_count": 120,
     "metadata": {},
     "output_type": "execute_result"
    }
   ],
   "source": [
    "def blink(stone):\n",
    "    new_stones = []\n",
    "    if stone == 0: new_stones.append(1)\n",
    "    else:\n",
    "        digits = int(np.log10(stone))+1\n",
    "        if digits%2==1: new_stones.append(stone*2024)\n",
    "        else: \n",
    "            new_stones.append(stone//(10**(digits//2)))\n",
    "            new_stones.append(stone%(10**(digits//2)))\n",
    "    return new_stones\n",
    "    \n",
    "for i in range(25):\n",
    "    new_stones = []\n",
    "    for stone in stones:\n",
    "        new_stones += blink(stone)\n",
    "    stones = new_stones\n",
    "len(stones)"
   ]
  },
  {
   "cell_type": "code",
   "execution_count": 121,
   "id": "d4896891-c10d-4497-860a-c31b44a14e3a",
   "metadata": {
    "execution": {
     "iopub.execute_input": "2024-12-11T18:45:55.541606Z",
     "iopub.status.busy": "2024-12-11T18:45:55.541307Z",
     "iopub.status.idle": "2024-12-11T18:45:55.626502Z",
     "shell.execute_reply": "2024-12-11T18:45:55.625816Z",
     "shell.execute_reply.started": "2024-12-11T18:45:55.541579Z"
    }
   },
   "outputs": [],
   "source": [
    "# rather than a list of stones, store the count of a particular stone in the list\n",
    "# { 0:4, 1:6, 2024:2 }\n",
    "stones = {}\n",
    "for stone in stones2:\n",
    "    if stone in stones: stones[stone] += 1\n",
    "    else: stones[stone] = 1\n",
    "\n",
    "# stores the new stones produced by a stone\n",
    "# { 0:[1], 1:[2024], 2024:[20, 24] }\n",
    "seen_stones = {0:[1]}\n",
    "\n",
    "for i in range(75):\n",
    "    new_stones = {}\n",
    "    for stone in stones:\n",
    "        # add the stone and the result of blinking to \n",
    "        # the seen dict if it has not been observed yet\n",
    "        if stone not in seen_stones:\n",
    "            seen_stones[stone] = blink(stone)\n",
    "\n",
    "        # increment the count of new stones by the stones that result from\n",
    "        # blinking at the current stone by the count of the current stone\n",
    "        for new_stone in seen_stones[stone]:\n",
    "            if new_stone in new_stones:            \n",
    "                new_stones[new_stone] += stones[stone]\n",
    "            else:\n",
    "                new_stones[new_stone] = stones[stone]\n",
    "                \n",
    "    stones = new_stones"
   ]
  },
  {
   "cell_type": "code",
   "execution_count": 122,
   "id": "926ba11d-4a88-4d1c-92ec-3514b7b9c93b",
   "metadata": {
    "execution": {
     "iopub.execute_input": "2024-12-11T18:45:59.375539Z",
     "iopub.status.busy": "2024-12-11T18:45:59.374479Z",
     "iopub.status.idle": "2024-12-11T18:45:59.393847Z",
     "shell.execute_reply": "2024-12-11T18:45:59.392945Z",
     "shell.execute_reply.started": "2024-12-11T18:45:59.375432Z"
    }
   },
   "outputs": [
    {
     "data": {
      "text/plain": [
       "239413123020116"
      ]
     },
     "execution_count": 122,
     "metadata": {},
     "output_type": "execute_result"
    }
   ],
   "source": [
    "total = 0\n",
    "for stone in stones:\n",
    "    total += stones[stone]\n",
    "total"
   ]
  },
  {
   "cell_type": "code",
   "execution_count": 167,
   "id": "ad622a97-adf4-44b7-9455-7b349061f290",
   "metadata": {
    "execution": {
     "iopub.execute_input": "2024-12-11T19:34:23.385998Z",
     "iopub.status.busy": "2024-12-11T19:34:23.385092Z",
     "iopub.status.idle": "2024-12-11T19:34:23.400326Z",
     "shell.execute_reply": "2024-12-11T19:34:23.397980Z",
     "shell.execute_reply.started": "2024-12-11T19:34:23.385915Z"
    }
   },
   "outputs": [],
   "source": [
    "# part 2 solution with recursion and caching\n",
    "from functools import lru_cache\n",
    "target = 75\n",
    "@lru_cache(maxsize=None)\n",
    "def count_stones(stone,blinks):\n",
    "    if blinks == target:\n",
    "        return 1\n",
    "    new_stones = blink(stone)\n",
    "    total = sum([count_stones(stone,blinks+1) for stone in new_stones])\n",
    "        \n",
    "    return total"
   ]
  },
  {
   "cell_type": "code",
   "execution_count": 168,
   "id": "7f62a288-5541-478a-b774-14f8bd121a6b",
   "metadata": {
    "execution": {
     "iopub.execute_input": "2024-12-11T19:34:23.755151Z",
     "iopub.status.busy": "2024-12-11T19:34:23.754877Z",
     "iopub.status.idle": "2024-12-11T19:34:24.119824Z",
     "shell.execute_reply": "2024-12-11T19:34:24.119200Z",
     "shell.execute_reply.started": "2024-12-11T19:34:23.755122Z"
    }
   },
   "outputs": [
    {
     "data": {
      "text/plain": [
       "239413123020116"
      ]
     },
     "execution_count": 168,
     "metadata": {},
     "output_type": "execute_result"
    }
   ],
   "source": [
    "total = 0\n",
    "for stone in stones2:\n",
    "    total += count_stones(stone,0)\n",
    "total"
   ]
  },
  {
   "cell_type": "code",
   "execution_count": null,
   "id": "86d771a7-bec4-4cbb-a2e5-ed829aff61ec",
   "metadata": {},
   "outputs": [],
   "source": []
  }
 ],
 "metadata": {
  "kernelspec": {
   "display_name": "Python 3 (ipykernel)",
   "language": "python",
   "name": "python3"
  },
  "language_info": {
   "codemirror_mode": {
    "name": "ipython",
    "version": 3
   },
   "file_extension": ".py",
   "mimetype": "text/x-python",
   "name": "python",
   "nbconvert_exporter": "python",
   "pygments_lexer": "ipython3",
   "version": "3.8.10"
  }
 },
 "nbformat": 4,
 "nbformat_minor": 5
}
