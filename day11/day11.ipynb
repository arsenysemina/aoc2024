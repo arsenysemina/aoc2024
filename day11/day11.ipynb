{
 "cells": [
  {
   "cell_type": "code",
   "execution_count": 70,
   "id": "e6342e20-3b2b-484d-96c0-811bbc5d415f",
   "metadata": {
    "execution": {
     "iopub.execute_input": "2024-12-11T07:08:53.952545Z",
     "iopub.status.busy": "2024-12-11T07:08:53.952013Z",
     "iopub.status.idle": "2024-12-11T07:08:53.958019Z",
     "shell.execute_reply": "2024-12-11T07:08:53.957412Z",
     "shell.execute_reply.started": "2024-12-11T07:08:53.952518Z"
    }
   },
   "outputs": [
    {
     "name": "stdout",
     "output_type": "stream",
     "text": [
      "/home/arseny/advent_of_code_2024\n"
     ]
    }
   ],
   "source": [
    "%cd ~/advent_of_code_2024\n",
    "from utils.get_input import get_input\n",
    "data = get_input(11).strip()\n",
    "import numpy as np\n",
    "stones = [int(x) for x in data.split(\" \")]\n",
    "stones2 = stones.copy()"
   ]
  },
  {
   "cell_type": "code",
   "execution_count": 71,
   "id": "cce6907a-645c-4777-a1d3-1072de940576",
   "metadata": {
    "execution": {
     "iopub.execute_input": "2024-12-11T07:08:54.360540Z",
     "iopub.status.busy": "2024-12-11T07:08:54.360232Z",
     "iopub.status.idle": "2024-12-11T07:08:55.038994Z",
     "shell.execute_reply": "2024-12-11T07:08:55.038422Z",
     "shell.execute_reply.started": "2024-12-11T07:08:54.360515Z"
    }
   },
   "outputs": [
    {
     "data": {
      "text/plain": [
       "199753"
      ]
     },
     "execution_count": 71,
     "metadata": {},
     "output_type": "execute_result"
    }
   ],
   "source": [
    "for i in range(25):\n",
    "    new_stones = []\n",
    "    for stone in stones:\n",
    "        if stone == 0:\n",
    "            new_stones.append(1)\n",
    "        elif int(np.log10(stone))%2==1:\n",
    "            s = str(stone)\n",
    "            new_stones.append(int(s[0:len(s)//2]))\n",
    "            new_stones.append(int(s[len(s)//2:len(s)]))\n",
    "        else:\n",
    "            new_stones.append(stone*2024)\n",
    "    stones = new_stones\n",
    "len(stones)"
   ]
  },
  {
   "cell_type": "code",
   "execution_count": 72,
   "id": "d4896891-c10d-4497-860a-c31b44a14e3a",
   "metadata": {
    "execution": {
     "iopub.execute_input": "2024-12-11T07:08:55.210655Z",
     "iopub.status.busy": "2024-12-11T07:08:55.208839Z",
     "iopub.status.idle": "2024-12-11T07:08:55.312542Z",
     "shell.execute_reply": "2024-12-11T07:08:55.311847Z",
     "shell.execute_reply.started": "2024-12-11T07:08:55.210574Z"
    }
   },
   "outputs": [],
   "source": [
    "# rather than a list of stones, store the count of a particular stone in the list\n",
    "# { 0:4, 1:6, 2024:2 }\n",
    "stones = {}\n",
    "for stone in stones2:\n",
    "    if stone in stones:\n",
    "        stones[stone] += 1\n",
    "    else:\n",
    "        stones[stone] = 1\n",
    "\n",
    "# stores the new stones produced by a stone\n",
    "# { 0:[1], 1:[2024], 2024:[20, 24] }\n",
    "seen_stones = {0:[1]}\n",
    "\n",
    "for i in range(75):\n",
    "    new_stones = {}\n",
    "    for stone in stones:\n",
    "        # add the stone and the result of blinking to \n",
    "        # the seen dict if it has not been observed yet\n",
    "        if stone not in seen_stones:\n",
    "            tmp_new_stones = []\n",
    "            if int(np.log10(stone))%2==1:\n",
    "                s = str(stone)\n",
    "                tmp_new_stones.append(int(s[0:len(s)//2]))\n",
    "                tmp_new_stones.append(int(s[len(s)//2:len(s)]))\n",
    "            else:\n",
    "                tmp_new_stones.append(stone*2024)\n",
    "            seen_stones[stone] = tmp_new_stones\n",
    "\n",
    "        # increment the count of new stones by the stones that result from\n",
    "        # blinking at the current stone by the count of the current stone\n",
    "        for new_stone in seen_stones[stone]:\n",
    "            if new_stone in new_stones:            \n",
    "                new_stones[new_stone] += stones[stone]\n",
    "            else:\n",
    "                new_stones[new_stone] = stones[stone]\n",
    "                \n",
    "    stones = new_stones"
   ]
  },
  {
   "cell_type": "code",
   "execution_count": 73,
   "id": "926ba11d-4a88-4d1c-92ec-3514b7b9c93b",
   "metadata": {
    "execution": {
     "iopub.execute_input": "2024-12-11T07:08:57.526707Z",
     "iopub.status.busy": "2024-12-11T07:08:57.525983Z",
     "iopub.status.idle": "2024-12-11T07:08:57.532142Z",
     "shell.execute_reply": "2024-12-11T07:08:57.531324Z",
     "shell.execute_reply.started": "2024-12-11T07:08:57.526677Z"
    }
   },
   "outputs": [
    {
     "data": {
      "text/plain": [
       "239413123020116"
      ]
     },
     "execution_count": 73,
     "metadata": {},
     "output_type": "execute_result"
    }
   ],
   "source": [
    "total = 0\n",
    "for stone in stones:\n",
    "    total += stones[stone]\n",
    "total"
   ]
  },
  {
   "cell_type": "code",
   "execution_count": null,
   "id": "ad622a97-adf4-44b7-9455-7b349061f290",
   "metadata": {},
   "outputs": [],
   "source": []
  },
  {
   "cell_type": "code",
   "execution_count": null,
   "id": "7ee64524-86c4-4392-9986-c5496078e235",
   "metadata": {},
   "outputs": [],
   "source": []
  }
 ],
 "metadata": {
  "kernelspec": {
   "display_name": "Python 3 (ipykernel)",
   "language": "python",
   "name": "python3"
  },
  "language_info": {
   "codemirror_mode": {
    "name": "ipython",
    "version": 3
   },
   "file_extension": ".py",
   "mimetype": "text/x-python",
   "name": "python",
   "nbconvert_exporter": "python",
   "pygments_lexer": "ipython3",
   "version": "3.8.10"
  }
 },
 "nbformat": 4,
 "nbformat_minor": 5
}
