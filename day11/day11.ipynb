{
 "cells": [
  {
   "cell_type": "code",
   "execution_count": 58,
   "id": "e6342e20-3b2b-484d-96c0-811bbc5d415f",
   "metadata": {
    "execution": {
     "iopub.execute_input": "2024-12-11T06:44:58.618542Z",
     "iopub.status.busy": "2024-12-11T06:44:58.616374Z",
     "iopub.status.idle": "2024-12-11T06:44:58.627575Z",
     "shell.execute_reply": "2024-12-11T06:44:58.626887Z",
     "shell.execute_reply.started": "2024-12-11T06:44:58.618448Z"
    }
   },
   "outputs": [
    {
     "name": "stdout",
     "output_type": "stream",
     "text": [
      "/home/arseny/advent_of_code_2024\n"
     ]
    }
   ],
   "source": [
    "%cd ~/advent_of_code_2024\n",
    "from utils.get_input import get_input\n",
    "data = get_input(11).strip()\n",
    "import numpy as np\n",
    "stones = [int(x) for x in data.split(\" \")]\n",
    "stones2 = stones.copy()"
   ]
  },
  {
   "cell_type": "code",
   "execution_count": 59,
   "id": "cce6907a-645c-4777-a1d3-1072de940576",
   "metadata": {
    "execution": {
     "iopub.execute_input": "2024-12-11T06:44:58.902115Z",
     "iopub.status.busy": "2024-12-11T06:44:58.901524Z",
     "iopub.status.idle": "2024-12-11T06:44:59.579242Z",
     "shell.execute_reply": "2024-12-11T06:44:59.578728Z",
     "shell.execute_reply.started": "2024-12-11T06:44:58.902081Z"
    }
   },
   "outputs": [
    {
     "data": {
      "text/plain": [
       "199753"
      ]
     },
     "execution_count": 59,
     "metadata": {},
     "output_type": "execute_result"
    }
   ],
   "source": [
    "for i in range(25):\n",
    "    new_stones = []\n",
    "    for stone in stones:\n",
    "        if stone == 0:\n",
    "            new_stones.append(1)\n",
    "        elif int(np.log10(stone))%2==1:\n",
    "            s = str(stone)\n",
    "            new_stones.append(int(s[0:len(s)//2]))\n",
    "            new_stones.append(int(s[len(s)//2:len(s)]))\n",
    "        else:\n",
    "            new_stones.append(stone*2024)\n",
    "    stones = new_stones\n",
    "len(stones)"
   ]
  },
  {
   "cell_type": "code",
   "execution_count": 62,
   "id": "d4896891-c10d-4497-860a-c31b44a14e3a",
   "metadata": {
    "execution": {
     "iopub.execute_input": "2024-12-11T06:45:13.906037Z",
     "iopub.status.busy": "2024-12-11T06:45:13.905119Z",
     "iopub.status.idle": "2024-12-11T06:45:14.014118Z",
     "shell.execute_reply": "2024-12-11T06:45:14.013476Z",
     "shell.execute_reply.started": "2024-12-11T06:45:13.905918Z"
    }
   },
   "outputs": [],
   "source": [
    "# 0:4, 1:6, 2024:2\n",
    "stones = {}\n",
    "for stone in stones2:\n",
    "    if stone in stones:\n",
    "        stones[stone] += 1\n",
    "    else:\n",
    "        stones[stone] = 1\n",
    "\n",
    "# 0:[1], 1:[2024], 2024:[20, 24]\n",
    "seen_stones = {0:[1]}\n",
    "\n",
    "for i in range(75):\n",
    "    new_stones = {}\n",
    "    for stone in stones:\n",
    "        if stone not in seen_stones:\n",
    "            tmp_new_stones = []\n",
    "            if int(np.log10(stone))%2==1:\n",
    "                s = str(stone)\n",
    "                tmp_new_stones.append(int(s[0:len(s)//2]))\n",
    "                tmp_new_stones.append(int(s[len(s)//2:len(s)]))\n",
    "            else:\n",
    "                tmp_new_stones.append(stone*2024)\n",
    "            seen_stones[stone] = tmp_new_stones\n",
    "        \n",
    "        for new_stone in seen_stones[stone]:\n",
    "            if new_stone in new_stones:            \n",
    "                new_stones[new_stone] += stones[stone]*1\n",
    "            else:\n",
    "                new_stones[new_stone] = stones[stone]*1\n",
    "                \n",
    "            \n",
    "    stones = new_stones"
   ]
  },
  {
   "cell_type": "code",
   "execution_count": 61,
   "id": "926ba11d-4a88-4d1c-92ec-3514b7b9c93b",
   "metadata": {
    "execution": {
     "iopub.execute_input": "2024-12-11T06:45:01.516274Z",
     "iopub.status.busy": "2024-12-11T06:45:01.516012Z",
     "iopub.status.idle": "2024-12-11T06:45:01.521029Z",
     "shell.execute_reply": "2024-12-11T06:45:01.520390Z",
     "shell.execute_reply.started": "2024-12-11T06:45:01.516251Z"
    }
   },
   "outputs": [
    {
     "data": {
      "text/plain": [
       "239413123020116"
      ]
     },
     "execution_count": 61,
     "metadata": {},
     "output_type": "execute_result"
    }
   ],
   "source": [
    "total = 0\n",
    "for stone in stones:\n",
    "    total += stones[stone]\n",
    "total"
   ]
  },
  {
   "cell_type": "code",
   "execution_count": null,
   "id": "ad622a97-adf4-44b7-9455-7b349061f290",
   "metadata": {},
   "outputs": [],
   "source": []
  }
 ],
 "metadata": {
  "kernelspec": {
   "display_name": "Python 3 (ipykernel)",
   "language": "python",
   "name": "python3"
  },
  "language_info": {
   "codemirror_mode": {
    "name": "ipython",
    "version": 3
   },
   "file_extension": ".py",
   "mimetype": "text/x-python",
   "name": "python",
   "nbconvert_exporter": "python",
   "pygments_lexer": "ipython3",
   "version": "3.8.10"
  }
 },
 "nbformat": 4,
 "nbformat_minor": 5
}
