{
 "cells": [
  {
   "cell_type": "code",
   "execution_count": 2,
   "id": "99b5e253-95d4-4473-b9f8-936e1c2ff4ae",
   "metadata": {},
   "outputs": [
    {
     "name": "stdout",
     "output_type": "stream",
     "text": [
      "/home/arseny/advent_of_code_2024\n"
     ]
    }
   ],
   "source": [
    "%cd ~/advent_of_code_2024\n",
    "from utils.get_input import get_input\n",
    "data = get_input(2)\n",
    "data = [[int(e) for e in row.split()] for row in data.split('\\n')]"
   ]
  },
  {
   "cell_type": "code",
   "execution_count": 22,
   "id": "0a1bbaf1-7fa8-4237-8a3f-8cde645390f0",
   "metadata": {},
   "outputs": [
    {
     "data": {
      "text/plain": [
       "246"
      ]
     },
     "execution_count": 22,
     "metadata": {},
     "output_type": "execute_result"
    }
   ],
   "source": [
    "safe_count = 0\n",
    "for row in data:\n",
    "    ascending = (row[1]-row[0]) > 0\n",
    "    safe = True\n",
    "    for i in range(1,len(row)):\n",
    "        last, curr = row[i-1], row[i]\n",
    "        dif = curr-last\n",
    "        dis = abs(dif)\n",
    "        if dis < 1 or dis > 3 or (ascending and dif < 0) or (not ascending and dif > 0):\n",
    "            safe = False\n",
    "            break\n",
    "    if safe:\n",
    "        safe_count = safe_count + 1\n",
    "safe_count"
   ]
  },
  {
   "cell_type": "code",
   "execution_count": 43,
   "id": "fe1ba360-9288-4d89-84aa-db90e6903f8c",
   "metadata": {},
   "outputs": [
    {
     "name": "stdout",
     "output_type": "stream",
     "text": [
      "318\n"
     ]
    }
   ],
   "source": [
    "def check_row(row, ascending):\n",
    "    for i in range(1,len(row)):\n",
    "        last, curr = row[i-1], row[i]\n",
    "        dif = curr-last\n",
    "        dis = abs(dif)\n",
    "        if dis < 1 or dis > 3 or (ascending and dif < 0) or (not ascending and dif > 0):\n",
    "            return False, i\n",
    "    \n",
    "    return True, -1 \n",
    "\n",
    "safe_count = 0\n",
    "difs = [[row[i]-row[i-1] for i in range(1,len(row))] for row in data]\n",
    "for j in range(len(data)):\n",
    "    dif_row, row = difs[j], data[j]\n",
    "    safe = True\n",
    "    ascending_count = sum(1 for dif in dif_row if dif > 0)\n",
    "    ascending = ascending_count > 1\n",
    "\n",
    "    safe, i = check_row(row, ascending)\n",
    "    if not safe:\n",
    "        row2 = row.copy()\n",
    "        row2.pop(i-1)\n",
    "        safe, i2 = check_row(row2, ascending)\n",
    "        if not safe:\n",
    "            row2 = row.copy()\n",
    "            row2.pop(i)\n",
    "            safe, i2 = check_row(row2, ascending)\n",
    "            \n",
    "    if safe:\n",
    "        safe_count = safe_count + 1\n",
    "        \n",
    "print(safe_count)\n",
    "            "
   ]
  },
  {
   "cell_type": "code",
   "execution_count": null,
   "id": "7a0a34bb-35a1-41a2-8a8b-259b5ff905f3",
   "metadata": {},
   "outputs": [],
   "source": []
  },
  {
   "cell_type": "code",
   "execution_count": null,
   "id": "161179dd-34f5-46f0-a34c-1dd7e6823ced",
   "metadata": {},
   "outputs": [],
   "source": []
  },
  {
   "cell_type": "code",
   "execution_count": null,
   "id": "daea6061-b1ef-480e-a25e-0e1cdddc4a8c",
   "metadata": {},
   "outputs": [],
   "source": []
  },
  {
   "cell_type": "code",
   "execution_count": null,
   "id": "54b9c448-25a6-4dd9-bcf5-cad1282184ed",
   "metadata": {},
   "outputs": [],
   "source": []
  },
  {
   "cell_type": "code",
   "execution_count": null,
   "id": "51be8004-dc3a-45d7-850d-89fcee37b13b",
   "metadata": {},
   "outputs": [],
   "source": []
  },
  {
   "cell_type": "code",
   "execution_count": null,
   "id": "60a3b723-9129-416d-8031-094de44512d1",
   "metadata": {},
   "outputs": [],
   "source": []
  }
 ],
 "metadata": {
  "kernelspec": {
   "display_name": "Python 3 (ipykernel)",
   "language": "python",
   "name": "python3"
  },
  "language_info": {
   "codemirror_mode": {
    "name": "ipython",
    "version": 3
   },
   "file_extension": ".py",
   "mimetype": "text/x-python",
   "name": "python",
   "nbconvert_exporter": "python",
   "pygments_lexer": "ipython3",
   "version": "3.8.10"
  }
 },
 "nbformat": 4,
 "nbformat_minor": 5
}
