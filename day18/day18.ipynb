{
 "cells": [
  {
   "cell_type": "code",
   "execution_count": 90,
   "id": "74cc0823-b33d-4376-af22-39917b14ea43",
   "metadata": {
    "execution": {
     "iopub.execute_input": "2024-12-18T17:53:44.855276Z",
     "iopub.status.busy": "2024-12-18T17:53:44.854416Z",
     "iopub.status.idle": "2024-12-18T17:53:44.872370Z",
     "shell.execute_reply": "2024-12-18T17:53:44.871423Z",
     "shell.execute_reply.started": "2024-12-18T17:53:44.855168Z"
    }
   },
   "outputs": [
    {
     "name": "stdout",
     "output_type": "stream",
     "text": [
      "/home/arseny/advent_of_code_2024\n"
     ]
    }
   ],
   "source": [
    "%cd ~/advent_of_code_2024\n",
    "from utils.get_input import get_input\n",
    "data = get_input(18).strip()\n",
    "data = [tuple([int(x) for x in reversed(row.split(','))]) for row in data.splitlines()]"
   ]
  },
  {
   "cell_type": "code",
   "execution_count": 120,
   "id": "67a36115-7955-4fd3-9eb4-5a321ebb42ea",
   "metadata": {
    "execution": {
     "iopub.execute_input": "2024-12-18T18:14:09.745108Z",
     "iopub.status.busy": "2024-12-18T18:14:09.744256Z",
     "iopub.status.idle": "2024-12-18T18:14:09.755361Z",
     "shell.execute_reply": "2024-12-18T18:14:09.754632Z",
     "shell.execute_reply.started": "2024-12-18T18:14:09.745026Z"
    }
   },
   "outputs": [],
   "source": [
    "def reconstruct_path(preceded, curr):\n",
    "    path = [curr]\n",
    "    while curr in preceded:\n",
    "        curr = preceded[curr]\n",
    "        path.insert(0,curr)\n",
    "    return path\n",
    "\n",
    "from heapq import heapify, heappush, heappop \n",
    "\n",
    "def h(n,end):\n",
    "    return (end[1]-n[1]) + (end[0]-n[0])\n",
    "\n",
    "def a_star(start, end, h, byts):\n",
    "    directions = [(1,0),(-1,0),(0,1),(0,-1)]\n",
    "    gscore = {start: 0}\n",
    "    fscore = h(start,end)\n",
    "    \n",
    "    visited = []\n",
    "    heappush(visited,(fscore,start))\n",
    "    preceded = {}\n",
    "\n",
    "    while visited:\n",
    "        curr = heappop(visited)[1]\n",
    "        if curr == end:\n",
    "            return reconstruct_path(preceded, curr)\n",
    "\n",
    "        for d in directions:\n",
    "            n = (d[0]+curr[0],d[1]+curr[1])\n",
    "            if not all([x <= end[0] and x >= 0 for x in n]) or n in byts:\n",
    "                continue\n",
    "                \n",
    "            score = gscore[curr] + 1\n",
    "            if n not in gscore or score < gscore[n]:\n",
    "                preceded[n], gscore[n] = curr, score\n",
    "                fscore = score + h(n,end)\n",
    "                if n not in visited:\n",
    "                    heappush(visited,(fscore,n))\n",
    "    return False"
   ]
  },
  {
   "cell_type": "code",
   "execution_count": 121,
   "id": "39aab864-649d-4e70-a3cd-3b73bbb48388",
   "metadata": {
    "execution": {
     "iopub.execute_input": "2024-12-18T18:14:10.122516Z",
     "iopub.status.busy": "2024-12-18T18:14:10.122241Z",
     "iopub.status.idle": "2024-12-18T18:14:10.150943Z",
     "shell.execute_reply": "2024-12-18T18:14:10.150236Z",
     "shell.execute_reply.started": "2024-12-18T18:14:10.122492Z"
    }
   },
   "outputs": [
    {
     "data": {
      "text/plain": [
       "282"
      ]
     },
     "execution_count": 121,
     "metadata": {},
     "output_type": "execute_result"
    }
   ],
   "source": [
    "byts = set(data[:1024])\n",
    "s = a_star((0,0),(70,70),h,byts)\n",
    "len(s)-1"
   ]
  },
  {
   "cell_type": "code",
   "execution_count": 119,
   "id": "2b750d99-a24b-4c99-997d-d246b5d97366",
   "metadata": {
    "execution": {
     "iopub.execute_input": "2024-12-18T18:13:34.438793Z",
     "iopub.status.busy": "2024-12-18T18:13:34.438532Z",
     "iopub.status.idle": "2024-12-18T18:13:34.483696Z",
     "shell.execute_reply": "2024-12-18T18:13:34.483024Z",
     "shell.execute_reply.started": "2024-12-18T18:13:34.438770Z"
    }
   },
   "outputs": [
    {
     "name": "stdout",
     "output_type": "stream",
     "text": [
      "64,29\n"
     ]
    }
   ],
   "source": [
    "l,r = 0,len(data)-1\n",
    "m = (l+r)//2\n",
    "while r-l != 1:\n",
    "    byts = set(data[:m])\n",
    "    path = a_star((0,0),(70,70),h,byts)\n",
    "    if path:\n",
    "        l = m\n",
    "        m = (l+r)//2\n",
    "    else:\n",
    "        r = m\n",
    "        m = (l+r)//2\n",
    "\n",
    "print(str(data[r-1][1]) + \",\" + str(data[r-1][0]))"
   ]
  },
  {
   "cell_type": "code",
   "execution_count": null,
   "id": "664f1daf-75b1-4dac-a445-0948f16e3b52",
   "metadata": {},
   "outputs": [],
   "source": []
  }
 ],
 "metadata": {
  "kernelspec": {
   "display_name": "Python 3 (ipykernel)",
   "language": "python",
   "name": "python3"
  },
  "language_info": {
   "codemirror_mode": {
    "name": "ipython",
    "version": 3
   },
   "file_extension": ".py",
   "mimetype": "text/x-python",
   "name": "python",
   "nbconvert_exporter": "python",
   "pygments_lexer": "ipython3",
   "version": "3.8.10"
  }
 },
 "nbformat": 4,
 "nbformat_minor": 5
}
