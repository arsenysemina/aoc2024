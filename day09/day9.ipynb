{
 "cells": [
  {
   "cell_type": "code",
   "execution_count": 217,
   "id": "853f6f95-fb79-4d72-b9a1-143afdd215a8",
   "metadata": {
    "execution": {
     "iopub.execute_input": "2024-12-09T19:12:19.291085Z",
     "iopub.status.busy": "2024-12-09T19:12:19.290819Z",
     "iopub.status.idle": "2024-12-09T19:12:19.296238Z",
     "shell.execute_reply": "2024-12-09T19:12:19.295572Z",
     "shell.execute_reply.started": "2024-12-09T19:12:19.291060Z"
    }
   },
   "outputs": [
    {
     "name": "stdout",
     "output_type": "stream",
     "text": [
      "/home/arseny/advent_of_code_2024\n"
     ]
    }
   ],
   "source": [
    "%cd ~/advent_of_code_2024\n",
    "from utils.get_input import get_input\n",
    "data = get_input(9).strip()"
   ]
  },
  {
   "cell_type": "code",
   "execution_count": 218,
   "id": "83d3ac0a-ab25-455b-a76c-c33284800265",
   "metadata": {
    "execution": {
     "iopub.execute_input": "2024-12-09T19:12:19.623010Z",
     "iopub.status.busy": "2024-12-09T19:12:19.622759Z",
     "iopub.status.idle": "2024-12-09T19:12:19.720983Z",
     "shell.execute_reply": "2024-12-09T19:12:19.720347Z",
     "shell.execute_reply.started": "2024-12-09T19:12:19.622987Z"
    }
   },
   "outputs": [],
   "source": [
    "# create file system and store indices of free and file spaces\n",
    "f_system, free_indices, file_indices, curr_index = [], [], [], 0\n",
    "\n",
    "for x,c in enumerate(data):\n",
    "    b_size = int(c)\n",
    "    if x%2==0:\n",
    "        f_system += [str(x//2) for i in range(b_size)]\n",
    "        file_indices.append([curr_index,b_size,x//2])\n",
    "    else:\n",
    "        f_system += ['.' for i in range(b_size)]\n",
    "        free_indices.append([curr_index,b_size])\n",
    "        \n",
    "    curr_index += b_size"
   ]
  },
  {
   "cell_type": "code",
   "execution_count": 219,
   "id": "48436e12-c625-45c0-94c6-1b5e733b615d",
   "metadata": {
    "execution": {
     "iopub.execute_input": "2024-12-09T19:12:20.162939Z",
     "iopub.status.busy": "2024-12-09T19:12:20.162127Z",
     "iopub.status.idle": "2024-12-09T19:12:20.208347Z",
     "shell.execute_reply": "2024-12-09T19:12:20.207554Z",
     "shell.execute_reply.started": "2024-12-09T19:12:20.162834Z"
    }
   },
   "outputs": [],
   "source": [
    "# swap blocks of free spaces\n",
    "def array_swap(a,i1,i2):\n",
    "    tmp = a[i1]\n",
    "    a[i1] = a[i2]\n",
    "    a[i2] = tmp\n",
    "\n",
    "# I hate this solution tbqh\n",
    "stop = False\n",
    "curr_file = len(file_indices)-1\n",
    "file_index = file_indices[curr_file]\n",
    "file_counter = 0\n",
    "for free_index in free_indices:\n",
    "    start = free_index[0]\n",
    "    for space in range(free_index[1]):\n",
    "        i1 = start+space\n",
    "        i2 = file_index[0]+file_index[1]-1-file_counter\n",
    "        if i2 <= i1:\n",
    "            stop = True\n",
    "            break\n",
    "        array_swap(f_system,i1,i2)\n",
    "        file_counter += 1\n",
    "        if(file_index[1] == file_counter):\n",
    "            curr_file -= 1\n",
    "            if curr_file >= 0:\n",
    "                file_index = file_indices[curr_file]\n",
    "                file_counter = 0\n",
    "            else:\n",
    "                stop = True\n",
    "                break\n",
    "    if stop:\n",
    "        break\n",
    "        "
   ]
  },
  {
   "cell_type": "code",
   "execution_count": 220,
   "id": "c60feb32-3b13-4923-8665-39d352d9c61f",
   "metadata": {
    "execution": {
     "iopub.execute_input": "2024-12-09T19:12:20.737802Z",
     "iopub.status.busy": "2024-12-09T19:12:20.737464Z",
     "iopub.status.idle": "2024-12-09T19:12:20.767388Z",
     "shell.execute_reply": "2024-12-09T19:12:20.766781Z",
     "shell.execute_reply.started": "2024-12-09T19:12:20.737776Z"
    }
   },
   "outputs": [
    {
     "data": {
      "text/plain": [
       "6310675819476"
      ]
     },
     "execution_count": 220,
     "metadata": {},
     "output_type": "execute_result"
    }
   ],
   "source": [
    "total = 0\n",
    "for i in range(len(f_system)):\n",
    "    if(f_system[i]!='.'):\n",
    "        mult = i * int(f_system[i])\n",
    "        total += mult\n",
    "total"
   ]
  },
  {
   "cell_type": "code",
   "execution_count": 221,
   "id": "e5a38572-1963-4dc1-8ff4-9649677b2783",
   "metadata": {
    "execution": {
     "iopub.execute_input": "2024-12-09T19:12:21.900372Z",
     "iopub.status.busy": "2024-12-09T19:12:21.900114Z",
     "iopub.status.idle": "2024-12-09T19:12:22.483470Z",
     "shell.execute_reply": "2024-12-09T19:12:22.482748Z",
     "shell.execute_reply.started": "2024-12-09T19:12:21.900348Z"
    }
   },
   "outputs": [],
   "source": [
    "# swap blocks of free spaces\n",
    "\n",
    "for file_index in reversed(file_indices):\n",
    "    for i,free_index in enumerate(free_indices):\n",
    "        if file_index[0] <= free_index[0]: break\n",
    "        else free_index[1] >= file_index[1]:\n",
    "            file_index[0] = free_index[0]\n",
    "            free_index[0] += file_index[1]\n",
    "            free_index[1] -= file_index[1]\n",
    "            if free_index[1] <= 0: free_indices.pop(i) \n",
    "            break\n",
    "            \n",
    "from functools import cmp_to_key\n",
    "\n",
    "def compare(index1, index2):\n",
    "    return index1[0]-index2[0]\n",
    "\n",
    "sorted_file_indices = sorted(file_indices, key=cmp_to_key(compare))"
   ]
  },
  {
   "cell_type": "code",
   "execution_count": 211,
   "id": "d2627666-9426-4829-8ee0-7530f45344ba",
   "metadata": {
    "execution": {
     "iopub.execute_input": "2024-12-09T19:01:13.468178Z",
     "iopub.status.busy": "2024-12-09T19:01:13.467627Z",
     "iopub.status.idle": "2024-12-09T19:01:13.484960Z",
     "shell.execute_reply": "2024-12-09T19:01:13.484413Z",
     "shell.execute_reply.started": "2024-12-09T19:01:13.468145Z"
    }
   },
   "outputs": [
    {
     "data": {
      "text/plain": [
       "6335972980679"
      ]
     },
     "execution_count": 211,
     "metadata": {},
     "output_type": "execute_result"
    }
   ],
   "source": [
    "total = 0\n",
    "for file_index in sorted_file_indices:\n",
    "    for i in range(file_index[1]):\n",
    "        total += (i+file_index[0]) * file_index[2]\n",
    "total"
   ]
  },
  {
   "cell_type": "code",
   "execution_count": null,
   "id": "c0059141-c3c9-4c23-935d-7edb8fea6ff1",
   "metadata": {},
   "outputs": [],
   "source": []
  },
  {
   "cell_type": "code",
   "execution_count": null,
   "id": "a6f148df-758e-4733-bd8e-6d54c515aaaf",
   "metadata": {},
   "outputs": [],
   "source": []
  }
 ],
 "metadata": {
  "kernelspec": {
   "display_name": "Python 3 (ipykernel)",
   "language": "python",
   "name": "python3"
  },
  "language_info": {
   "codemirror_mode": {
    "name": "ipython",
    "version": 3
   },
   "file_extension": ".py",
   "mimetype": "text/x-python",
   "name": "python",
   "nbconvert_exporter": "python",
   "pygments_lexer": "ipython3",
   "version": "3.8.10"
  }
 },
 "nbformat": 4,
 "nbformat_minor": 5
}
