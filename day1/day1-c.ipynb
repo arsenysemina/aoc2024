{
 "cells": [
  {
   "cell_type": "code",
   "execution_count": 45,
   "id": "00aa3b32-5b3f-40ab-bad7-f3b32f4eb354",
   "metadata": {},
   "outputs": [
    {
     "name": "stdout",
     "output_type": "stream",
     "text": [
      "1197984\n",
      "23387399\n"
     ]
    }
   ],
   "source": [
    "#include <stdio.h>\n",
    "#include <stdlib.h>\n",
    "\n",
    "int main() {\n",
    "    FILE* file_ptr = fopen(\"data.txt\", \"r\");\n",
    "    char c = getc(file_ptr);\n",
    "\n",
    "    int list1[5000]; int list2[5000];\n",
    "    int list_switch = 1; int file_length = 1;\n",
    "    int str_i = 0; int array_i = 0;\n",
    "    \n",
    "    char curr_str[6];\n",
    "    int curr_int;\n",
    "    while(1) {\n",
    "        if(c!=' ' && c!='\\n' && c!= EOF)\n",
    "            curr_str[str_i++] = c;\n",
    "        else{\n",
    "            if(str_i != 0){\n",
    "                if(c=='\\n')\n",
    "                    file_length++;\n",
    "                str_i = 0;\n",
    "                curr_int = atoi(curr_str);\n",
    "                if(list_switch){\n",
    "                    list1[array_i]=curr_int;\n",
    "                    list_switch = 0;\n",
    "                }\n",
    "                else{\n",
    "                    list2[array_i]=curr_int;\n",
    "                    list_switch = 1;\n",
    "                    array_i++;\n",
    "                }\n",
    "            }\n",
    "        }\n",
    "        if(c==EOF){\n",
    "            break;\n",
    "        }\n",
    "        c=getc(file_ptr);\n",
    "    }\n",
    "\n",
    "    // PART 1\n",
    "    int comp(const void *a, const void *b) {\n",
    "        return (*(int *)a - *(int *)b);\n",
    "    }\n",
    "    \n",
    "    qsort(list1, file_length, sizeof(list1[0]), comp);\n",
    "    qsort(list2, file_length, sizeof(list2[0]), comp);\n",
    "\n",
    "    int total = 0;\n",
    "    for(int i = 0; i < file_length; i++)\n",
    "        total = total + abs(list1[i] - list2[i]);\n",
    "    \n",
    "    printf(\"%d\\n\",total);\n",
    "\n",
    "    // PART 2\n",
    "    total = 0; int j = 0; int count;\n",
    "    for(int i = 0; i < file_length; i++){\n",
    "        count = 0;\n",
    "        while(j<file_length && list1[i] >= list2[j]){\n",
    "            if(list1[i] == list2[j])\n",
    "                count++;\n",
    "            j++;\n",
    "        }\n",
    "        total += list1[i]*count;\n",
    "    }\n",
    "    printf(\"%d\\n\",total);\n",
    "    \n",
    "    fclose(file_ptr);\n",
    "}"
   ]
  },
  {
   "cell_type": "code",
   "execution_count": null,
   "id": "1bea0b7d-0e25-4dfd-ae41-5e7077277314",
   "metadata": {},
   "outputs": [],
   "source": []
  },
  {
   "cell_type": "code",
   "execution_count": null,
   "id": "46106683-6237-4e4d-b3f1-1db2fc5cf8c9",
   "metadata": {},
   "outputs": [],
   "source": []
  }
 ],
 "metadata": {
  "kernelspec": {
   "display_name": "C",
   "language": "c",
   "name": "c"
  },
  "language_info": {
   "file_extension": ".c",
   "mimetype": "text/plain",
   "name": "c"
  }
 },
 "nbformat": 4,
 "nbformat_minor": 5
}
