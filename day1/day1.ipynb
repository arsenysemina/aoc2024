{
 "cells": [
  {
   "cell_type": "code",
   "execution_count": 2,
   "id": "9403b00f-9008-40ce-b007-176edb2e68f6",
   "metadata": {},
   "outputs": [
    {
     "name": "stdout",
     "output_type": "stream",
     "text": [
      "/home/arseny/advent_of_code_2024\n"
     ]
    }
   ],
   "source": [
    "%cd ~/advent_of_code_2024\n",
    "from utils.get_input import get_input\n",
    "data = get_input(1).strip()\n",
    "data = data.split('\\n')\n",
    "data = [row.split() for row in data]"
   ]
  },
  {
   "cell_type": "code",
   "execution_count": 3,
   "id": "86240eb8-fe16-4d48-9f7f-284d57cb4562",
   "metadata": {},
   "outputs": [],
   "source": [
    "list1, list2 = [], []\n",
    "for row in data:\n",
    "    list1.append(int(row[0]))\n",
    "    list2.append(int(row[1]))"
   ]
  },
  {
   "cell_type": "code",
   "execution_count": 4,
   "id": "ce16bbab-f21a-4e28-b497-8e78327e5c62",
   "metadata": {},
   "outputs": [],
   "source": [
    "list1.sort()\n",
    "list2.sort()"
   ]
  },
  {
   "cell_type": "code",
   "execution_count": 5,
   "id": "f5f45a80-9543-4ea2-b444-6b797fac88c8",
   "metadata": {},
   "outputs": [
    {
     "data": {
      "text/plain": [
       "1197984"
      ]
     },
     "execution_count": 5,
     "metadata": {},
     "output_type": "execute_result"
    }
   ],
   "source": [
    "total = 0\n",
    "for i in range(len(list1)):\n",
    "    total = total + abs(list1[i] - list2[i])\n",
    "total"
   ]
  },
  {
   "cell_type": "code",
   "execution_count": 6,
   "id": "3ba3ed9f-3eb8-49e5-a617-048936a2083c",
   "metadata": {},
   "outputs": [
    {
     "data": {
      "text/plain": [
       "23387399"
      ]
     },
     "execution_count": 6,
     "metadata": {},
     "output_type": "execute_result"
    }
   ],
   "source": [
    "total2 = 0\n",
    "j = 0\n",
    "for i in range(len(list1)):\n",
    "    count = 0\n",
    "    while j < len(list2) and list1[i] >= list2[j]:\n",
    "        if list1[i] == list2[j]:\n",
    "            count = count + 1\n",
    "        j = j+1\n",
    "    total2 = total2 + list1[i]*count\n",
    "total2"
   ]
  },
  {
   "cell_type": "code",
   "execution_count": null,
   "id": "b23f3412-5d42-420f-8755-13d6e3bb01da",
   "metadata": {},
   "outputs": [],
   "source": []
  }
 ],
 "metadata": {
  "kernelspec": {
   "display_name": "Python 3 (ipykernel)",
   "language": "python",
   "name": "python3"
  },
  "language_info": {
   "codemirror_mode": {
    "name": "ipython",
    "version": 3
   },
   "file_extension": ".py",
   "mimetype": "text/x-python",
   "name": "python",
   "nbconvert_exporter": "python",
   "pygments_lexer": "ipython3",
   "version": "3.8.10"
  }
 },
 "nbformat": 4,
 "nbformat_minor": 5
}
