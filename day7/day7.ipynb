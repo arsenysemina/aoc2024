{
 "cells": [
  {
   "cell_type": "code",
   "execution_count": 56,
   "id": "e8654944-3663-4829-ae0a-143e969f909f",
   "metadata": {
    "execution": {
     "iopub.execute_input": "2024-12-07T16:11:33.874706Z",
     "iopub.status.busy": "2024-12-07T16:11:33.873896Z",
     "iopub.status.idle": "2024-12-07T16:11:33.895660Z",
     "shell.execute_reply": "2024-12-07T16:11:33.895146Z",
     "shell.execute_reply.started": "2024-12-07T16:11:33.874629Z"
    }
   },
   "outputs": [
    {
     "name": "stdout",
     "output_type": "stream",
     "text": [
      "/home/arseny/advent_of_code_2024\n"
     ]
    }
   ],
   "source": [
    "%cd ~/advent_of_code_2024\n",
    "from utils.get_input import get_input\n",
    "data = get_input(7)\n",
    "data = data.strip()\n",
    "data=data.splitlines()\n",
    "data = [row.split(\": \") for row in data]\n",
    "data = [[int(row[0]),[int(x) for x in row[1].split(' ')]] for row in data]"
   ]
  },
  {
   "cell_type": "code",
   "execution_count": 64,
   "id": "02755a68-79c2-41bd-89de-9a820d25a265",
   "metadata": {
    "execution": {
     "iopub.execute_input": "2024-12-07T16:20:05.653677Z",
     "iopub.status.busy": "2024-12-07T16:20:05.652829Z",
     "iopub.status.idle": "2024-12-07T16:20:05.661814Z",
     "shell.execute_reply": "2024-12-07T16:20:05.661194Z",
     "shell.execute_reply.started": "2024-12-07T16:20:05.653597Z"
    }
   },
   "outputs": [],
   "source": [
    "def try_operator(a,curr_a, e,curr_e):\n",
    "    if (curr_a == a and curr_e == len(e)) or curr_e == len(e) or curr_a > a:\n",
    "        return curr_a\n",
    "\n",
    "    curr_a_add = curr_a + e[curr_e]\n",
    "    curr_a_mul = curr_a * e[curr_e]\n",
    "    curr_e = curr_e + 1\n",
    "\n",
    "    curr_a_add = try_operator(a, curr_a_add, e, curr_e)\n",
    "    curr_a_mul = try_operator(a, curr_a_mul, e, curr_e)\n",
    "\n",
    "    if curr_a_add == a:\n",
    "        return curr_a_add\n",
    "    else:\n",
    "        return curr_a_mul\n",
    "\n",
    "def try_operator_w_concat(a,curr_a, e,curr_e):\n",
    "    if (curr_a == a and curr_e == len(e)) or curr_e == len(e) or curr_a > a:\n",
    "        return curr_a\n",
    "\n",
    "    curr_a_add = curr_a + e[curr_e]\n",
    "    curr_a_mul = curr_a * e[curr_e]\n",
    "    curr_a_concat = int(str(curr_a)+str(e[curr_e]))\n",
    "    curr_e = curr_e + 1\n",
    "\n",
    "    curr_a_add = try_operator_w_concat(a, curr_a_add, e, curr_e)\n",
    "    curr_a_mul = try_operator_w_concat(a, curr_a_mul, e, curr_e)\n",
    "    curr_a_concat = try_operator_w_concat(a, curr_a_concat, e, curr_e)\n",
    "\n",
    "    if curr_a_add == a:\n",
    "        return curr_a_add\n",
    "    elif curr_a_mul == a:\n",
    "        return curr_a_mul\n",
    "    else:\n",
    "        return curr_a_concat"
   ]
  },
  {
   "cell_type": "code",
   "execution_count": 65,
   "id": "8c46ee46-298e-4f26-a2c4-1f3a4f1a8283",
   "metadata": {
    "execution": {
     "iopub.execute_input": "2024-12-07T16:20:08.787098Z",
     "iopub.status.busy": "2024-12-07T16:20:08.785901Z",
     "iopub.status.idle": "2024-12-07T16:20:08.898038Z",
     "shell.execute_reply": "2024-12-07T16:20:08.897515Z",
     "shell.execute_reply.started": "2024-12-07T16:20:08.787013Z"
    }
   },
   "outputs": [
    {
     "data": {
      "text/plain": [
       "4122618559853"
      ]
     },
     "execution_count": 65,
     "metadata": {},
     "output_type": "execute_result"
    }
   ],
   "source": [
    "total = 0\n",
    "for row in data:\n",
    "    a, e = row[0], row[1]\n",
    "    curr_a = e[0]\n",
    "    answer = try_operator(a, curr_a, e, 1)\n",
    "    if answer == a:\n",
    "        total = total + a\n",
    "total"
   ]
  },
  {
   "cell_type": "code",
   "execution_count": 66,
   "id": "9cc06294-c97e-461e-adcc-dfb0c67a63b4",
   "metadata": {
    "execution": {
     "iopub.execute_input": "2024-12-07T16:20:12.805169Z",
     "iopub.status.busy": "2024-12-07T16:20:12.804341Z",
     "iopub.status.idle": "2024-12-07T16:20:16.239695Z",
     "shell.execute_reply": "2024-12-07T16:20:16.239199Z",
     "shell.execute_reply.started": "2024-12-07T16:20:12.805090Z"
    }
   },
   "outputs": [
    {
     "data": {
      "text/plain": [
       "227615740238334"
      ]
     },
     "execution_count": 66,
     "metadata": {},
     "output_type": "execute_result"
    }
   ],
   "source": [
    "total = 0\n",
    "for row in data:\n",
    "    a, e = row[0], row[1]\n",
    "    curr_a = e[0]\n",
    "    answer = try_operator_w_concat(a, curr_a, e, 1)\n",
    "    if answer == a:\n",
    "        total = total + a\n",
    "total"
   ]
  },
  {
   "cell_type": "code",
   "execution_count": null,
   "id": "26945d44-cae6-4179-80e7-66b39150dbba",
   "metadata": {},
   "outputs": [],
   "source": []
  },
  {
   "cell_type": "code",
   "execution_count": null,
   "id": "ad9fdbf4-0513-41cc-87bb-cc6694ee1926",
   "metadata": {},
   "outputs": [],
   "source": []
  }
 ],
 "metadata": {
  "kernelspec": {
   "display_name": "Python 3 (ipykernel)",
   "language": "python",
   "name": "python3"
  },
  "language_info": {
   "codemirror_mode": {
    "name": "ipython",
    "version": 3
   },
   "file_extension": ".py",
   "mimetype": "text/x-python",
   "name": "python",
   "nbconvert_exporter": "python",
   "pygments_lexer": "ipython3",
   "version": "3.8.10"
  }
 },
 "nbformat": 4,
 "nbformat_minor": 5
}
