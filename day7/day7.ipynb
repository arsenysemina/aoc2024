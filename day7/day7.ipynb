{
 "cells": [
  {
   "cell_type": "code",
   "execution_count": 84,
   "id": "e8654944-3663-4829-ae0a-143e969f909f",
   "metadata": {
    "execution": {
     "iopub.execute_input": "2024-12-07T20:32:57.471467Z",
     "iopub.status.busy": "2024-12-07T20:32:57.470684Z",
     "iopub.status.idle": "2024-12-07T20:32:57.483259Z",
     "shell.execute_reply": "2024-12-07T20:32:57.482564Z",
     "shell.execute_reply.started": "2024-12-07T20:32:57.471393Z"
    }
   },
   "outputs": [
    {
     "name": "stdout",
     "output_type": "stream",
     "text": [
      "/home/arseny/advent_of_code_2024\n"
     ]
    }
   ],
   "source": [
    "%cd ~/advent_of_code_2024\n",
    "from utils.get_input import get_input\n",
    "data = get_input(7)\n",
    "data = data.strip()\n",
    "data=data.splitlines()\n",
    "data = [row.split(\": \") for row in data]\n",
    "data = [[int(row[0]),[int(x) for x in row[1].split(' ')]] for row in data]"
   ]
  },
  {
   "cell_type": "code",
   "execution_count": 85,
   "id": "02755a68-79c2-41bd-89de-9a820d25a265",
   "metadata": {
    "execution": {
     "iopub.execute_input": "2024-12-07T20:32:57.831784Z",
     "iopub.status.busy": "2024-12-07T20:32:57.831543Z",
     "iopub.status.idle": "2024-12-07T20:32:57.836987Z",
     "shell.execute_reply": "2024-12-07T20:32:57.836235Z",
     "shell.execute_reply.started": "2024-12-07T20:32:57.831762Z"
    }
   },
   "outputs": [],
   "source": [
    "def try_operator(a,curr_a, e,curr_e):\n",
    "    if curr_e == len(e):\n",
    "        return curr_a == a\n",
    "\n",
    "    add = try_operator(a, curr_a + e[curr_e], e, curr_e + 1)\n",
    "    mul = try_operator(a, curr_a * e[curr_e], e, curr_e + 1)\n",
    "\n",
    "    return add or mul\n",
    "\n",
    "def try_operator_w_concat(a,curr_a, e,curr_e):\n",
    "    if curr_e == len(e):\n",
    "        return curr_a == a\n",
    "\n",
    "    add = try_operator_w_concat(a, curr_a + e[curr_e], e, curr_e + 1)\n",
    "    mul = try_operator_w_concat(a, curr_a * e[curr_e], e, curr_e + 1)\n",
    "    concat = try_operator_w_concat(a, int(str(curr_a)+str(e[curr_e])), e, curr_e + 1)\n",
    "\n",
    "    return add or mul or concat"
   ]
  },
  {
   "cell_type": "code",
   "execution_count": 87,
   "id": "8c46ee46-298e-4f26-a2c4-1f3a4f1a8283",
   "metadata": {
    "execution": {
     "iopub.execute_input": "2024-12-07T20:34:28.108654Z",
     "iopub.status.busy": "2024-12-07T20:34:28.107810Z",
     "iopub.status.idle": "2024-12-07T20:34:28.217789Z",
     "shell.execute_reply": "2024-12-07T20:34:28.217171Z",
     "shell.execute_reply.started": "2024-12-07T20:34:28.108570Z"
    }
   },
   "outputs": [
    {
     "data": {
      "text/plain": [
       "4122618559853"
      ]
     },
     "execution_count": 87,
     "metadata": {},
     "output_type": "execute_result"
    }
   ],
   "source": [
    "total = 0\n",
    "for row in data:\n",
    "    answer = try_operator(row[0], row[1][0], row[1], 1)\n",
    "    if answer:\n",
    "        total = total + row[0]\n",
    "total"
   ]
  },
  {
   "cell_type": "code",
   "execution_count": 89,
   "id": "9cc06294-c97e-461e-adcc-dfb0c67a63b4",
   "metadata": {
    "execution": {
     "iopub.execute_input": "2024-12-07T20:34:47.235013Z",
     "iopub.status.busy": "2024-12-07T20:34:47.234244Z",
     "iopub.status.idle": "2024-12-07T20:34:53.295190Z",
     "shell.execute_reply": "2024-12-07T20:34:53.294611Z",
     "shell.execute_reply.started": "2024-12-07T20:34:47.234931Z"
    }
   },
   "outputs": [
    {
     "data": {
      "text/plain": [
       "227615740238334"
      ]
     },
     "execution_count": 89,
     "metadata": {},
     "output_type": "execute_result"
    }
   ],
   "source": [
    "total = 0\n",
    "for row in data:\n",
    "    answer = try_operator_w_concat(row[0], row[1][0], row[1], 1)\n",
    "    if answer:\n",
    "        total = total + row[0]\n",
    "total"
   ]
  },
  {
   "cell_type": "code",
   "execution_count": null,
   "id": "26945d44-cae6-4179-80e7-66b39150dbba",
   "metadata": {},
   "outputs": [],
   "source": []
  },
  {
   "cell_type": "code",
   "execution_count": null,
   "id": "ad9fdbf4-0513-41cc-87bb-cc6694ee1926",
   "metadata": {},
   "outputs": [],
   "source": []
  }
 ],
 "metadata": {
  "kernelspec": {
   "display_name": "Python 3 (ipykernel)",
   "language": "python",
   "name": "python3"
  },
  "language_info": {
   "codemirror_mode": {
    "name": "ipython",
    "version": 3
   },
   "file_extension": ".py",
   "mimetype": "text/x-python",
   "name": "python",
   "nbconvert_exporter": "python",
   "pygments_lexer": "ipython3",
   "version": "3.8.10"
  }
 },
 "nbformat": 4,
 "nbformat_minor": 5
}
