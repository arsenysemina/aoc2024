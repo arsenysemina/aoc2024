{
 "cells": [
  {
   "cell_type": "code",
   "execution_count": 90,
   "id": "e8654944-3663-4829-ae0a-143e969f909f",
   "metadata": {
    "execution": {
     "iopub.execute_input": "2024-12-07T20:37:35.193201Z",
     "iopub.status.busy": "2024-12-07T20:37:35.192384Z",
     "iopub.status.idle": "2024-12-07T20:37:35.217621Z",
     "shell.execute_reply": "2024-12-07T20:37:35.216318Z",
     "shell.execute_reply.started": "2024-12-07T20:37:35.193121Z"
    }
   },
   "outputs": [
    {
     "name": "stdout",
     "output_type": "stream",
     "text": [
      "/home/arseny/advent_of_code_2024\n"
     ]
    }
   ],
   "source": [
    "%cd ~/advent_of_code_2024\n",
    "from utils.get_input import get_input\n",
    "data = get_input(7)\n",
    "data = data.strip()\n",
    "data=data.splitlines()\n",
    "data = [row.split(\": \") for row in data]\n",
    "data = [[int(row[0]),[int(x) for x in row[1].split(' ')]] for row in data]"
   ]
  },
  {
   "cell_type": "code",
   "execution_count": 91,
   "id": "02755a68-79c2-41bd-89de-9a820d25a265",
   "metadata": {
    "execution": {
     "iopub.execute_input": "2024-12-07T20:37:36.105870Z",
     "iopub.status.busy": "2024-12-07T20:37:36.104748Z",
     "iopub.status.idle": "2024-12-07T20:37:36.125990Z",
     "shell.execute_reply": "2024-12-07T20:37:36.124630Z",
     "shell.execute_reply.started": "2024-12-07T20:37:36.105758Z"
    }
   },
   "outputs": [],
   "source": [
    "def try_operator(a,curr_a, e,curr_e):\n",
    "    if curr_e == len(e):\n",
    "        return curr_a == a\n",
    "\n",
    "    add = try_operator(a, curr_a + e[curr_e], e, curr_e + 1)\n",
    "    mul = try_operator(a, curr_a * e[curr_e], e, curr_e + 1)\n",
    "\n",
    "    return add or mul\n",
    "\n",
    "def try_operator_w_concat(a,curr_a, e,curr_e):\n",
    "    if curr_e == len(e):\n",
    "        return curr_a == a\n",
    "\n",
    "    add = try_operator_w_concat(a, curr_a + e[curr_e], e, curr_e + 1)\n",
    "    mul = try_operator_w_concat(a, curr_a * e[curr_e], e, curr_e + 1)\n",
    "    concat = try_operator_w_concat(a, int(str(curr_a)+str(e[curr_e])), e, curr_e + 1)\n",
    "\n",
    "    return add or mul or concat"
   ]
  },
  {
   "cell_type": "code",
   "execution_count": 92,
   "id": "8c46ee46-298e-4f26-a2c4-1f3a4f1a8283",
   "metadata": {
    "execution": {
     "iopub.execute_input": "2024-12-07T20:37:36.623947Z",
     "iopub.status.busy": "2024-12-07T20:37:36.622837Z",
     "iopub.status.idle": "2024-12-07T20:37:36.738973Z",
     "shell.execute_reply": "2024-12-07T20:37:36.738411Z",
     "shell.execute_reply.started": "2024-12-07T20:37:36.623863Z"
    }
   },
   "outputs": [
    {
     "data": {
      "text/plain": [
       "4122618559853"
      ]
     },
     "execution_count": 92,
     "metadata": {},
     "output_type": "execute_result"
    }
   ],
   "source": [
    "total = 0\n",
    "for row in data:\n",
    "    if try_operator(row[0], row[1][0], row[1], 1):\n",
    "        total = total + row[0]\n",
    "total"
   ]
  },
  {
   "cell_type": "code",
   "execution_count": 93,
   "id": "9cc06294-c97e-461e-adcc-dfb0c67a63b4",
   "metadata": {
    "execution": {
     "iopub.execute_input": "2024-12-07T20:37:37.338046Z",
     "iopub.status.busy": "2024-12-07T20:37:37.337533Z",
     "iopub.status.idle": "2024-12-07T20:37:43.397856Z",
     "shell.execute_reply": "2024-12-07T20:37:43.397349Z",
     "shell.execute_reply.started": "2024-12-07T20:37:37.338023Z"
    }
   },
   "outputs": [
    {
     "data": {
      "text/plain": [
       "227615740238334"
      ]
     },
     "execution_count": 93,
     "metadata": {},
     "output_type": "execute_result"
    }
   ],
   "source": [
    "total = 0\n",
    "for row in data:\n",
    "    if try_operator_w_concat(row[0], row[1][0], row[1], 1):\n",
    "        total = total + row[0]\n",
    "total"
   ]
  },
  {
   "cell_type": "code",
   "execution_count": null,
   "id": "26945d44-cae6-4179-80e7-66b39150dbba",
   "metadata": {},
   "outputs": [],
   "source": []
  },
  {
   "cell_type": "code",
   "execution_count": null,
   "id": "ad9fdbf4-0513-41cc-87bb-cc6694ee1926",
   "metadata": {},
   "outputs": [],
   "source": []
  }
 ],
 "metadata": {
  "kernelspec": {
   "display_name": "Python 3 (ipykernel)",
   "language": "python",
   "name": "python3"
  },
  "language_info": {
   "codemirror_mode": {
    "name": "ipython",
    "version": 3
   },
   "file_extension": ".py",
   "mimetype": "text/x-python",
   "name": "python",
   "nbconvert_exporter": "python",
   "pygments_lexer": "ipython3",
   "version": "3.8.10"
  }
 },
 "nbformat": 4,
 "nbformat_minor": 5
}
