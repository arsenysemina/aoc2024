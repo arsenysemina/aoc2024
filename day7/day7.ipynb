{
 "cells": [
  {
   "cell_type": "code",
   "execution_count": 75,
   "id": "e8654944-3663-4829-ae0a-143e969f909f",
   "metadata": {
    "execution": {
     "iopub.execute_input": "2024-12-07T17:38:31.491988Z",
     "iopub.status.busy": "2024-12-07T17:38:31.490915Z",
     "iopub.status.idle": "2024-12-07T17:38:31.514630Z",
     "shell.execute_reply": "2024-12-07T17:38:31.513629Z",
     "shell.execute_reply.started": "2024-12-07T17:38:31.491883Z"
    }
   },
   "outputs": [
    {
     "name": "stdout",
     "output_type": "stream",
     "text": [
      "/home/arseny/advent_of_code_2024\n"
     ]
    }
   ],
   "source": [
    "%cd ~/advent_of_code_2024\n",
    "from utils.get_input import get_input\n",
    "data = get_input(7)\n",
    "data = data.strip()\n",
    "data=data.splitlines()\n",
    "data = [row.split(\": \") for row in data]\n",
    "data = [[int(row[0]),[int(x) for x in row[1].split(' ')]] for row in data]"
   ]
  },
  {
   "cell_type": "code",
   "execution_count": 76,
   "id": "02755a68-79c2-41bd-89de-9a820d25a265",
   "metadata": {
    "execution": {
     "iopub.execute_input": "2024-12-07T17:38:31.849911Z",
     "iopub.status.busy": "2024-12-07T17:38:31.849459Z",
     "iopub.status.idle": "2024-12-07T17:38:31.856035Z",
     "shell.execute_reply": "2024-12-07T17:38:31.855277Z",
     "shell.execute_reply.started": "2024-12-07T17:38:31.849883Z"
    }
   },
   "outputs": [],
   "source": [
    "def try_operator(a,curr_a, e,curr_e):\n",
    "    if curr_e == len(e):\n",
    "        return curr_a == a\n",
    "\n",
    "    add = try_operator(a, curr_a + e[curr_e], e, curr_e + 1)\n",
    "    mul = try_operator(a, curr_a * e[curr_e], e, curr_e + 1)\n",
    "\n",
    "    return add or mul\n",
    "\n",
    "def try_operator_w_concat(a,curr_a, e,curr_e):\n",
    "    if curr_e == len(e):\n",
    "        return curr_a == a\n",
    "\n",
    "    add = try_operator_w_concat(a, curr_a + e[curr_e], e, curr_e + 1)\n",
    "    mul = try_operator_w_concat(a, curr_a * e[curr_e], e, curr_e + 1)\n",
    "    concat = try_operator_w_concat(a, int(str(curr_a)+str(e[curr_e])), e, curr_e + 1)\n",
    "\n",
    "    return add or mul or concat"
   ]
  },
  {
   "cell_type": "code",
   "execution_count": 77,
   "id": "8c46ee46-298e-4f26-a2c4-1f3a4f1a8283",
   "metadata": {
    "execution": {
     "iopub.execute_input": "2024-12-07T17:38:32.638296Z",
     "iopub.status.busy": "2024-12-07T17:38:32.637963Z",
     "iopub.status.idle": "2024-12-07T17:38:32.739214Z",
     "shell.execute_reply": "2024-12-07T17:38:32.738540Z",
     "shell.execute_reply.started": "2024-12-07T17:38:32.638272Z"
    }
   },
   "outputs": [
    {
     "data": {
      "text/plain": [
       "0"
      ]
     },
     "execution_count": 77,
     "metadata": {},
     "output_type": "execute_result"
    }
   ],
   "source": [
    "total = 0\n",
    "for row in data:\n",
    "    a, e = row[0], row[1]\n",
    "    curr_a = e[0]\n",
    "    answer = try_operator(a, curr_a, e, 1)\n",
    "    if answer:\n",
    "        total = total + a\n",
    "total"
   ]
  },
  {
   "cell_type": "code",
   "execution_count": 70,
   "id": "9cc06294-c97e-461e-adcc-dfb0c67a63b4",
   "metadata": {
    "execution": {
     "iopub.execute_input": "2024-12-07T17:29:05.705734Z",
     "iopub.status.busy": "2024-12-07T17:29:05.704870Z",
     "iopub.status.idle": "2024-12-07T17:29:09.061637Z",
     "shell.execute_reply": "2024-12-07T17:29:09.061122Z",
     "shell.execute_reply.started": "2024-12-07T17:29:05.705655Z"
    }
   },
   "outputs": [
    {
     "data": {
      "text/plain": [
       "150077710195188"
      ]
     },
     "execution_count": 70,
     "metadata": {},
     "output_type": "execute_result"
    }
   ],
   "source": [
    "total = 0\n",
    "for row in data:\n",
    "    a, e = row[0], row[1]\n",
    "    curr_a = e[0]\n",
    "    answer = try_operator_w_concat(a, curr_a, e, 1)\n",
    "    if answer == a:\n",
    "        total = total + a\n",
    "total"
   ]
  },
  {
   "cell_type": "code",
   "execution_count": null,
   "id": "26945d44-cae6-4179-80e7-66b39150dbba",
   "metadata": {},
   "outputs": [],
   "source": []
  },
  {
   "cell_type": "code",
   "execution_count": null,
   "id": "ad9fdbf4-0513-41cc-87bb-cc6694ee1926",
   "metadata": {},
   "outputs": [],
   "source": []
  }
 ],
 "metadata": {
  "kernelspec": {
   "display_name": "Python 3 (ipykernel)",
   "language": "python",
   "name": "python3"
  },
  "language_info": {
   "codemirror_mode": {
    "name": "ipython",
    "version": 3
   },
   "file_extension": ".py",
   "mimetype": "text/x-python",
   "name": "python",
   "nbconvert_exporter": "python",
   "pygments_lexer": "ipython3",
   "version": "3.8.10"
  }
 },
 "nbformat": 4,
 "nbformat_minor": 5
}
