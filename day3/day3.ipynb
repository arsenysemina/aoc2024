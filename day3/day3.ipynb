{
 "cells": [
  {
   "cell_type": "code",
   "execution_count": 2,
   "id": "b0f17858-1ca1-4e1f-ab91-f48081b604f3",
   "metadata": {},
   "outputs": [
    {
     "name": "stdout",
     "output_type": "stream",
     "text": [
      "/home/arseny/advent_of_code_2024\n"
     ]
    }
   ],
   "source": [
    "%cd ~/advent_of_code_2024\n",
    "from utils.get_input import get_input\n",
    "data = get_input(3).strip()"
   ]
  },
  {
   "cell_type": "code",
   "execution_count": 8,
   "id": "4c6f0fb8-8662-45a9-8a32-6258eb29c411",
   "metadata": {},
   "outputs": [],
   "source": [
    "import re\n",
    "muls = re.findall(\"mul\\(\\d{0,3},\\d{0,3}\\)\", data)\n",
    "muls = [row.replace(\"mul(\",\"\").replace(\")\",\"\") for row in muls]\n",
    "muls = [row.split(',') for row in muls]"
   ]
  },
  {
   "cell_type": "code",
   "execution_count": 10,
   "id": "954e4ada-68ce-42df-a9fe-a821b6008429",
   "metadata": {},
   "outputs": [
    {
     "data": {
      "text/plain": [
       "168539636"
      ]
     },
     "execution_count": 10,
     "metadata": {},
     "output_type": "execute_result"
    }
   ],
   "source": [
    "sum([int(row[0])*int(row[1]) for row in muls])"
   ]
  },
  {
   "cell_type": "code",
   "execution_count": 21,
   "id": "679abc3a-8527-4d0f-bbcb-230f2d97785d",
   "metadata": {},
   "outputs": [],
   "source": [
    "muls = re.findall(\"mul\\(\\d{0,3},\\d{0,3}\\)|do\\(\\)|don't\\(\\)\", data)\n",
    "muls = [row.replace(\"mul(\",\"\").replace(\")\",\"\") for row in muls]\n",
    "muls = [row.split(',') for row in muls]"
   ]
  },
  {
   "cell_type": "code",
   "execution_count": 24,
   "id": "0b2434b6-021c-4570-b32f-86c6ac00ccf6",
   "metadata": {},
   "outputs": [
    {
     "data": {
      "text/plain": [
       "97529391"
      ]
     },
     "execution_count": 24,
     "metadata": {},
     "output_type": "execute_result"
    }
   ],
   "source": [
    "mult = True\n",
    "total = 0\n",
    "for row in muls:\n",
    "    if row[0] == \"do(\":\n",
    "        mult=True\n",
    "    elif row[0] == \"don't(\":\n",
    "        mult=False\n",
    "    elif mult:\n",
    "        total = total + int(row[0])*int(row[1])\n",
    "total"
   ]
  },
  {
   "cell_type": "code",
   "execution_count": null,
   "id": "8f0f9997-7b41-45f2-a028-6cca9ad7c128",
   "metadata": {},
   "outputs": [],
   "source": []
  }
 ],
 "metadata": {
  "kernelspec": {
   "display_name": "Python 3 (ipykernel)",
   "language": "python",
   "name": "python3"
  },
  "language_info": {
   "codemirror_mode": {
    "name": "ipython",
    "version": 3
   },
   "file_extension": ".py",
   "mimetype": "text/x-python",
   "name": "python",
   "nbconvert_exporter": "python",
   "pygments_lexer": "ipython3",
   "version": "3.8.10"
  }
 },
 "nbformat": 4,
 "nbformat_minor": 5
}
