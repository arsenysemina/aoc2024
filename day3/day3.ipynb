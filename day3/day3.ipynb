{
 "cells": [
  {
   "cell_type": "code",
   "execution_count": 67,
   "id": "b0f17858-1ca1-4e1f-ab91-f48081b604f3",
   "metadata": {},
   "outputs": [
    {
     "name": "stdout",
     "output_type": "stream",
     "text": [
      "/home/arseny/advent_of_code_2024\n"
     ]
    }
   ],
   "source": [
    "%cd ~/advent_of_code_2024\n",
    "from utils.get_input import get_input"
   ]
  },
  {
   "cell_type": "code",
   "execution_count": 68,
   "id": "4c6f0fb8-8662-45a9-8a32-6258eb29c411",
   "metadata": {},
   "outputs": [],
   "source": [
    "import re\n",
    "muls = re.findall(\"mul\\(\\d{0,3},\\d{0,3}\\)\", data)\n",
    "muls = [row.replace(\"mul(\",\"\").replace(\")\",\"\") for row in muls]\n",
    "muls = [row.split(',') for row in muls]"
   ]
  },
  {
   "cell_type": "code",
   "execution_count": 69,
   "id": "954e4ada-68ce-42df-a9fe-a821b6008429",
   "metadata": {},
   "outputs": [
    {
     "data": {
      "text/plain": [
       "168539636"
      ]
     },
     "execution_count": 69,
     "metadata": {},
     "output_type": "execute_result"
    }
   ],
   "source": [
    "sum([int(row[0])*int(row[1]) for row in muls])"
   ]
  },
  {
   "cell_type": "code",
   "execution_count": 72,
   "id": "679abc3a-8527-4d0f-bbcb-230f2d97785d",
   "metadata": {},
   "outputs": [],
   "source": [
    "data2 = re.sub(\"don't\\(\\)(?:.|\\n)*?(?:do\\(\\))\",\"\",data+\"do()\")\n",
    "muls2 = re.findall(\"mul\\(\\d{0,3},\\d{0,3}\\)\", data2)\n",
    "muls2 = [row.replace(\"mul(\",\"\").replace(\")\",\"\") for row in muls2]\n",
    "muls2 = [row.split(',') for row in muls2]"
   ]
  },
  {
   "cell_type": "code",
   "execution_count": 73,
   "id": "0b2434b6-021c-4570-b32f-86c6ac00ccf6",
   "metadata": {},
   "outputs": [
    {
     "data": {
      "text/plain": [
       "97529391"
      ]
     },
     "execution_count": 73,
     "metadata": {},
     "output_type": "execute_result"
    }
   ],
   "source": [
    "sum([int(row[0])*int(row[1]) for row in muls2])"
   ]
  },
  {
   "cell_type": "code",
   "execution_count": null,
   "id": "f2e2b229-4c2e-403d-83df-7389bb1bb80e",
   "metadata": {},
   "outputs": [],
   "source": []
  },
  {
   "cell_type": "code",
   "execution_count": null,
   "id": "a1bf2a74-e11e-4361-aa2b-af37be326e1a",
   "metadata": {},
   "outputs": [],
   "source": []
  }
 ],
 "metadata": {
  "kernelspec": {
   "display_name": "Python 3 (ipykernel)",
   "language": "python",
   "name": "python3"
  },
  "language_info": {
   "codemirror_mode": {
    "name": "ipython",
    "version": 3
   },
   "file_extension": ".py",
   "mimetype": "text/x-python",
   "name": "python",
   "nbconvert_exporter": "python",
   "pygments_lexer": "ipython3",
   "version": "3.8.10"
  }
 },
 "nbformat": 4,
 "nbformat_minor": 5
}
