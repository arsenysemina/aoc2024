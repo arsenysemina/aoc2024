{
 "cells": [
  {
   "cell_type": "code",
   "execution_count": 172,
   "id": "853f6f95-fb79-4d72-b9a1-143afdd215a8",
   "metadata": {
    "execution": {
     "iopub.execute_input": "2024-12-09T18:25:30.719951Z",
     "iopub.status.busy": "2024-12-09T18:25:30.719140Z",
     "iopub.status.idle": "2024-12-09T18:25:30.731148Z",
     "shell.execute_reply": "2024-12-09T18:25:30.729964Z",
     "shell.execute_reply.started": "2024-12-09T18:25:30.719869Z"
    }
   },
   "outputs": [
    {
     "name": "stdout",
     "output_type": "stream",
     "text": [
      "/home/arseny/advent_of_code_2024\n"
     ]
    }
   ],
   "source": [
    "%cd ~/advent_of_code_2024\n",
    "from utils.get_input import get_input\n",
    "data = get_input(9).strip()"
   ]
  },
  {
   "cell_type": "code",
   "execution_count": 173,
   "id": "83d3ac0a-ab25-455b-a76c-c33284800265",
   "metadata": {
    "execution": {
     "iopub.execute_input": "2024-12-09T18:25:30.975134Z",
     "iopub.status.busy": "2024-12-09T18:25:30.974868Z",
     "iopub.status.idle": "2024-12-09T18:25:31.021133Z",
     "shell.execute_reply": "2024-12-09T18:25:31.020433Z",
     "shell.execute_reply.started": "2024-12-09T18:25:30.975109Z"
    }
   },
   "outputs": [],
   "source": [
    "# create file system and store indices of free and file spaces\n",
    "f_system, free_indices, file_indices, curr_index = [], [], [], 0\n",
    "\n",
    "for x,c in enumerate(data):\n",
    "    b_size = int(c)\n",
    "    if x%2==0:\n",
    "        f_system += [str(x//2) for i in range(b_size)]\n",
    "        file_indices.append([curr_index,b_size,x//2])\n",
    "    else:\n",
    "        f_system += ['.' for i in range(b_size)]\n",
    "        free_indices.append([curr_index,b_size])\n",
    "        \n",
    "    curr_index += b_size"
   ]
  },
  {
   "cell_type": "code",
   "execution_count": 167,
   "id": "48436e12-c625-45c0-94c6-1b5e733b615d",
   "metadata": {
    "execution": {
     "iopub.execute_input": "2024-12-09T18:23:34.367568Z",
     "iopub.status.busy": "2024-12-09T18:23:34.366824Z",
     "iopub.status.idle": "2024-12-09T18:23:34.413129Z",
     "shell.execute_reply": "2024-12-09T18:23:34.412460Z",
     "shell.execute_reply.started": "2024-12-09T18:23:34.367495Z"
    }
   },
   "outputs": [],
   "source": [
    "# swap blocks of free spaces\n",
    "def array_swap(a,i1,i2):\n",
    "    tmp = a[i1]\n",
    "    a[i1] = a[i2]\n",
    "    a[i2] = tmp\n",
    "\n",
    "# I hate this solution tbqh\n",
    "stop = False\n",
    "curr_file = len(file_indices)-1\n",
    "file_index = file_indices[curr_file]\n",
    "file_counter = 0\n",
    "for free_index in free_indices:\n",
    "    start = free_index[0]\n",
    "    for space in range(free_index[1]):\n",
    "        i1 = start+space\n",
    "        i2 = file_index[0]+file_index[1]-1-file_counter\n",
    "        if i2 <= i1:\n",
    "            stop = True\n",
    "            break\n",
    "        array_swap(f_system,i1,i2)\n",
    "        file_counter += 1\n",
    "        if(file_index[1] == file_counter):\n",
    "            curr_file -= 1\n",
    "            if curr_file >= 0:\n",
    "                file_index = file_indices[curr_file]\n",
    "                file_counter = 0\n",
    "            else:\n",
    "                stop = True\n",
    "                break\n",
    "    if stop:\n",
    "        break\n",
    "        "
   ]
  },
  {
   "cell_type": "code",
   "execution_count": 168,
   "id": "c60feb32-3b13-4923-8665-39d352d9c61f",
   "metadata": {
    "execution": {
     "iopub.execute_input": "2024-12-09T18:23:35.497645Z",
     "iopub.status.busy": "2024-12-09T18:23:35.497403Z",
     "iopub.status.idle": "2024-12-09T18:23:35.524623Z",
     "shell.execute_reply": "2024-12-09T18:23:35.523802Z",
     "shell.execute_reply.started": "2024-12-09T18:23:35.497624Z"
    }
   },
   "outputs": [
    {
     "data": {
      "text/plain": [
       "6310675819476"
      ]
     },
     "execution_count": 168,
     "metadata": {},
     "output_type": "execute_result"
    }
   ],
   "source": [
    "total = 0\n",
    "for i in range(len(f_system)):\n",
    "    if(f_system[i]!='.'):\n",
    "        mult = i * int(f_system[i])\n",
    "        total += mult\n",
    "total"
   ]
  },
  {
   "cell_type": "code",
   "execution_count": 169,
   "id": "e5a38572-1963-4dc1-8ff4-9649677b2783",
   "metadata": {
    "execution": {
     "iopub.execute_input": "2024-12-09T18:23:37.512989Z",
     "iopub.status.busy": "2024-12-09T18:23:37.512405Z",
     "iopub.status.idle": "2024-12-09T18:23:40.195065Z",
     "shell.execute_reply": "2024-12-09T18:23:40.194400Z",
     "shell.execute_reply.started": "2024-12-09T18:23:37.512948Z"
    }
   },
   "outputs": [],
   "source": [
    "# swap blocks of free spaces\n",
    "\n",
    "for file_index in reversed(file_indices):\n",
    "    for free_index in free_indices:\n",
    "        if file_index[0] <= free_index[0]:\n",
    "            break\n",
    "        if free_index[1] >= file_index[1]:\n",
    "            file_index[0] = free_index[0]\n",
    "            free_index[0] += file_index[1]\n",
    "            free_index[1] -= file_index[1]\n",
    "            \n",
    "from functools import cmp_to_key\n",
    "\n",
    "def compare(index1, index2):\n",
    "    return index1[0]-index2[0]\n",
    "\n",
    "sorted_file_indices = sorted(file_indices, key=cmp_to_key(compare))"
   ]
  },
  {
   "cell_type": "code",
   "execution_count": 170,
   "id": "d2627666-9426-4829-8ee0-7530f45344ba",
   "metadata": {
    "execution": {
     "iopub.execute_input": "2024-12-09T18:23:40.196018Z",
     "iopub.status.busy": "2024-12-09T18:23:40.195828Z",
     "iopub.status.idle": "2024-12-09T18:23:40.209115Z",
     "shell.execute_reply": "2024-12-09T18:23:40.208611Z",
     "shell.execute_reply.started": "2024-12-09T18:23:40.196002Z"
    }
   },
   "outputs": [
    {
     "data": {
      "text/plain": [
       "6335972980679"
      ]
     },
     "execution_count": 170,
     "metadata": {},
     "output_type": "execute_result"
    }
   ],
   "source": [
    "total = 0\n",
    "for file_index in sorted_file_indices:\n",
    "    for i in range(file_index[1]):\n",
    "        total += (i+file_index[0]) * file_index[2]\n",
    "total"
   ]
  },
  {
   "cell_type": "code",
   "execution_count": null,
   "id": "c0059141-c3c9-4c23-935d-7edb8fea6ff1",
   "metadata": {},
   "outputs": [],
   "source": []
  },
  {
   "cell_type": "code",
   "execution_count": null,
   "id": "a6f148df-758e-4733-bd8e-6d54c515aaaf",
   "metadata": {},
   "outputs": [],
   "source": []
  }
 ],
 "metadata": {
  "kernelspec": {
   "display_name": "Python 3 (ipykernel)",
   "language": "python",
   "name": "python3"
  },
  "language_info": {
   "codemirror_mode": {
    "name": "ipython",
    "version": 3
   },
   "file_extension": ".py",
   "mimetype": "text/x-python",
   "name": "python",
   "nbconvert_exporter": "python",
   "pygments_lexer": "ipython3",
   "version": "3.8.10"
  }
 },
 "nbformat": 4,
 "nbformat_minor": 5
}
