{
 "cells": [
  {
   "cell_type": "code",
   "execution_count": 198,
   "id": "853f6f95-fb79-4d72-b9a1-143afdd215a8",
   "metadata": {
    "execution": {
     "iopub.execute_input": "2024-12-09T18:58:05.888986Z",
     "iopub.status.busy": "2024-12-09T18:58:05.888166Z",
     "iopub.status.idle": "2024-12-09T18:58:05.902339Z",
     "shell.execute_reply": "2024-12-09T18:58:05.901616Z",
     "shell.execute_reply.started": "2024-12-09T18:58:05.888905Z"
    }
   },
   "outputs": [
    {
     "name": "stdout",
     "output_type": "stream",
     "text": [
      "/home/arseny/advent_of_code_2024\n"
     ]
    }
   ],
   "source": [
    "%cd ~/advent_of_code_2024\n",
    "from utils.get_input import get_input\n",
    "data = get_input(9).strip()"
   ]
  },
  {
   "cell_type": "code",
   "execution_count": 199,
   "id": "83d3ac0a-ab25-455b-a76c-c33284800265",
   "metadata": {
    "execution": {
     "iopub.execute_input": "2024-12-09T18:58:06.106950Z",
     "iopub.status.busy": "2024-12-09T18:58:06.106704Z",
     "iopub.status.idle": "2024-12-09T18:58:06.152559Z",
     "shell.execute_reply": "2024-12-09T18:58:06.151861Z",
     "shell.execute_reply.started": "2024-12-09T18:58:06.106926Z"
    }
   },
   "outputs": [],
   "source": [
    "# create file system and store indices of free and file spaces\n",
    "f_system, free_indices, file_indices, curr_index = [], [], [], 0\n",
    "\n",
    "for x,c in enumerate(data):\n",
    "    b_size = int(c)\n",
    "    if x%2==0:\n",
    "        f_system += [str(x//2) for i in range(b_size)]\n",
    "        file_indices.append([curr_index,b_size,x//2])\n",
    "    else:\n",
    "        f_system += ['.' for i in range(b_size)]\n",
    "        free_indices.append([curr_index,b_size])\n",
    "        \n",
    "    curr_index += b_size"
   ]
  },
  {
   "cell_type": "code",
   "execution_count": 200,
   "id": "48436e12-c625-45c0-94c6-1b5e733b615d",
   "metadata": {
    "execution": {
     "iopub.execute_input": "2024-12-09T18:58:06.482625Z",
     "iopub.status.busy": "2024-12-09T18:58:06.482373Z",
     "iopub.status.idle": "2024-12-09T18:58:06.506335Z",
     "shell.execute_reply": "2024-12-09T18:58:06.505708Z",
     "shell.execute_reply.started": "2024-12-09T18:58:06.482601Z"
    }
   },
   "outputs": [],
   "source": [
    "# swap blocks of free spaces\n",
    "def array_swap(a,i1,i2):\n",
    "    tmp = a[i1]\n",
    "    a[i1] = a[i2]\n",
    "    a[i2] = tmp\n",
    "\n",
    "# I hate this solution tbqh\n",
    "stop = False\n",
    "curr_file = len(file_indices)-1\n",
    "file_index = file_indices[curr_file]\n",
    "file_counter = 0\n",
    "for free_index in free_indices:\n",
    "    start = free_index[0]\n",
    "    for space in range(free_index[1]):\n",
    "        i1 = start+space\n",
    "        i2 = file_index[0]+file_index[1]-1-file_counter\n",
    "        if i2 <= i1:\n",
    "            stop = True\n",
    "            break\n",
    "        array_swap(f_system,i1,i2)\n",
    "        file_counter += 1\n",
    "        if(file_index[1] == file_counter):\n",
    "            curr_file -= 1\n",
    "            if curr_file >= 0:\n",
    "                file_index = file_indices[curr_file]\n",
    "                file_counter = 0\n",
    "            else:\n",
    "                stop = True\n",
    "                break\n",
    "    if stop:\n",
    "        break\n",
    "        "
   ]
  },
  {
   "cell_type": "code",
   "execution_count": 201,
   "id": "c60feb32-3b13-4923-8665-39d352d9c61f",
   "metadata": {
    "execution": {
     "iopub.execute_input": "2024-12-09T18:58:07.428528Z",
     "iopub.status.busy": "2024-12-09T18:58:07.427696Z",
     "iopub.status.idle": "2024-12-09T18:58:07.479415Z",
     "shell.execute_reply": "2024-12-09T18:58:07.478609Z",
     "shell.execute_reply.started": "2024-12-09T18:58:07.428423Z"
    }
   },
   "outputs": [
    {
     "data": {
      "text/plain": [
       "6310675819476"
      ]
     },
     "execution_count": 201,
     "metadata": {},
     "output_type": "execute_result"
    }
   ],
   "source": [
    "total = 0\n",
    "for i in range(len(f_system)):\n",
    "    if(f_system[i]!='.'):\n",
    "        mult = i * int(f_system[i])\n",
    "        total += mult\n",
    "total"
   ]
  },
  {
   "cell_type": "code",
   "execution_count": 203,
   "id": "e5a38572-1963-4dc1-8ff4-9649677b2783",
   "metadata": {
    "execution": {
     "iopub.execute_input": "2024-12-09T18:59:33.767168Z",
     "iopub.status.busy": "2024-12-09T18:59:33.766459Z",
     "iopub.status.idle": "2024-12-09T18:59:34.315395Z",
     "shell.execute_reply": "2024-12-09T18:59:34.314764Z",
     "shell.execute_reply.started": "2024-12-09T18:59:33.767143Z"
    }
   },
   "outputs": [],
   "source": [
    "# swap blocks of free spaces\n",
    "\n",
    "for file_index in reversed(file_indices):\n",
    "    for i,free_index in enumerate(free_indices):\n",
    "        if file_index[0] <= free_index[0]: break\n",
    "        if free_index[1] >= file_index[1]:\n",
    "            file_index[0] = free_index[0]\n",
    "            free_index[0] += file_index[1]\n",
    "            free_index[1] -= file_index[1]\n",
    "            if free_index[1] <= 0: free_indices.pop(i) \n",
    "            break\n",
    "            \n",
    "from functools import cmp_to_key\n",
    "\n",
    "def compare(index1, index2):\n",
    "    return index1[0]-index2[0]\n",
    "\n",
    "sorted_file_indices = sorted(file_indices, key=cmp_to_key(compare))"
   ]
  },
  {
   "cell_type": "code",
   "execution_count": 204,
   "id": "d2627666-9426-4829-8ee0-7530f45344ba",
   "metadata": {
    "execution": {
     "iopub.execute_input": "2024-12-09T18:59:35.299385Z",
     "iopub.status.busy": "2024-12-09T18:59:35.298824Z",
     "iopub.status.idle": "2024-12-09T18:59:35.315964Z",
     "shell.execute_reply": "2024-12-09T18:59:35.315265Z",
     "shell.execute_reply.started": "2024-12-09T18:59:35.299359Z"
    }
   },
   "outputs": [
    {
     "data": {
      "text/plain": [
       "6335972980679"
      ]
     },
     "execution_count": 204,
     "metadata": {},
     "output_type": "execute_result"
    }
   ],
   "source": [
    "total = 0\n",
    "for file_index in sorted_file_indices:\n",
    "    for i in range(file_index[1]):\n",
    "        total += (i+file_index[0]) * file_index[2]\n",
    "total"
   ]
  },
  {
   "cell_type": "code",
   "execution_count": null,
   "id": "c0059141-c3c9-4c23-935d-7edb8fea6ff1",
   "metadata": {},
   "outputs": [],
   "source": []
  },
  {
   "cell_type": "code",
   "execution_count": null,
   "id": "a6f148df-758e-4733-bd8e-6d54c515aaaf",
   "metadata": {},
   "outputs": [],
   "source": []
  }
 ],
 "metadata": {
  "kernelspec": {
   "display_name": "Python 3 (ipykernel)",
   "language": "python",
   "name": "python3"
  },
  "language_info": {
   "codemirror_mode": {
    "name": "ipython",
    "version": 3
   },
   "file_extension": ".py",
   "mimetype": "text/x-python",
   "name": "python",
   "nbconvert_exporter": "python",
   "pygments_lexer": "ipython3",
   "version": "3.8.10"
  }
 },
 "nbformat": 4,
 "nbformat_minor": 5
}
