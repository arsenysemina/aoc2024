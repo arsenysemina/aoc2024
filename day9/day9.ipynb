{
 "cells": [
  {
   "cell_type": "code",
   "execution_count": 145,
   "id": "853f6f95-fb79-4d72-b9a1-143afdd215a8",
   "metadata": {
    "execution": {
     "iopub.execute_input": "2024-12-09T15:29:56.484111Z",
     "iopub.status.busy": "2024-12-09T15:29:56.483836Z",
     "iopub.status.idle": "2024-12-09T15:29:56.489276Z",
     "shell.execute_reply": "2024-12-09T15:29:56.488646Z",
     "shell.execute_reply.started": "2024-12-09T15:29:56.484086Z"
    }
   },
   "outputs": [
    {
     "name": "stdout",
     "output_type": "stream",
     "text": [
      "/home/arseny/advent_of_code_2024\n"
     ]
    }
   ],
   "source": [
    "%cd ~/advent_of_code_2024\n",
    "from utils.get_input import get_input\n",
    "data = get_input(9).strip()\n",
    "# data = [list(row) for row in data.splitlines()]"
   ]
  },
  {
   "cell_type": "code",
   "execution_count": 146,
   "id": "83d3ac0a-ab25-455b-a76c-c33284800265",
   "metadata": {
    "execution": {
     "iopub.execute_input": "2024-12-09T15:29:56.693162Z",
     "iopub.status.busy": "2024-12-09T15:29:56.692860Z",
     "iopub.status.idle": "2024-12-09T15:29:56.738760Z",
     "shell.execute_reply": "2024-12-09T15:29:56.738059Z",
     "shell.execute_reply.started": "2024-12-09T15:29:56.693138Z"
    }
   },
   "outputs": [],
   "source": [
    "# data = \"2333133121414131402\"\n",
    "# create file system and store indices of free and file spaces\n",
    "file = True\n",
    "f_index, f_system = 0, []\n",
    "free_indices, file_indices, curr_index = [], [], 0\n",
    "\n",
    "for c in data:\n",
    "    if file:\n",
    "        b_size = int(c)\n",
    "        f_system += [str(f_index) for i in range(b_size)]\n",
    "        file_indices.append([curr_index,b_size,f_index])\n",
    "        f_index += 1\n",
    "    else:\n",
    "        b_size = int(c)\n",
    "        f_system += ['.' for i in range(b_size)]\n",
    "        free_indices.append([curr_index,b_size])\n",
    "        \n",
    "    curr_index += b_size\n",
    "    file = not file\n",
    "\n",
    "f_system2 = f_system.copy()"
   ]
  },
  {
   "cell_type": "code",
   "execution_count": 147,
   "id": "48436e12-c625-45c0-94c6-1b5e733b615d",
   "metadata": {
    "execution": {
     "iopub.execute_input": "2024-12-09T15:29:56.950930Z",
     "iopub.status.busy": "2024-12-09T15:29:56.950532Z",
     "iopub.status.idle": "2024-12-09T15:29:56.973393Z",
     "shell.execute_reply": "2024-12-09T15:29:56.972630Z",
     "shell.execute_reply.started": "2024-12-09T15:29:56.950900Z"
    }
   },
   "outputs": [],
   "source": [
    "# swap blocks of free spaces\n",
    "\n",
    "def array_swap(a,i1,i2):\n",
    "    tmp = a[i1]\n",
    "    a[i1] = a[i2]\n",
    "    a[i2] = tmp\n",
    "\n",
    "stop = False\n",
    "curr_file = len(file_indices)-1\n",
    "file_index = file_indices[curr_file]\n",
    "file_counter = 0\n",
    "for free_index in free_indices:\n",
    "    start = free_index[0]\n",
    "    for space in range(free_index[1]):\n",
    "        i1 = start+space\n",
    "        i2 = file_index[0]+file_index[1]-1-file_counter\n",
    "        if i2 <= i1:\n",
    "            stop = True\n",
    "            break\n",
    "        array_swap(f_system,i1,i2)\n",
    "        file_counter += 1\n",
    "        if(file_index[1] == file_counter):\n",
    "            curr_file -= 1\n",
    "            if curr_file >= 0:\n",
    "                file_index = file_indices[curr_file]\n",
    "                file_counter = 0\n",
    "            else:\n",
    "                stop = True\n",
    "                break\n",
    "    if stop:\n",
    "        break\n",
    "        "
   ]
  },
  {
   "cell_type": "code",
   "execution_count": 148,
   "id": "c60feb32-3b13-4923-8665-39d352d9c61f",
   "metadata": {
    "execution": {
     "iopub.execute_input": "2024-12-09T15:29:57.243341Z",
     "iopub.status.busy": "2024-12-09T15:29:57.242989Z",
     "iopub.status.idle": "2024-12-09T15:29:57.270420Z",
     "shell.execute_reply": "2024-12-09T15:29:57.269823Z",
     "shell.execute_reply.started": "2024-12-09T15:29:57.243316Z"
    }
   },
   "outputs": [
    {
     "data": {
      "text/plain": [
       "6310675819476"
      ]
     },
     "execution_count": 148,
     "metadata": {},
     "output_type": "execute_result"
    }
   ],
   "source": [
    "total = 0\n",
    "for i in range(len(f_system)):\n",
    "    if(f_system[i]!='.'):\n",
    "        mult = i * int(f_system[i])\n",
    "        total += mult\n",
    "total"
   ]
  },
  {
   "cell_type": "code",
   "execution_count": null,
   "id": "e5a38572-1963-4dc1-8ff4-9649677b2783",
   "metadata": {},
   "outputs": [],
   "source": [
    "# swap blocks of free spaces\n",
    "\n",
    "for file_index in reversed(file_indices):\n",
    "    for free_index in free_indices:\n",
    "        if file_index[0] <= free_index[0]:\n",
    "            break\n",
    "        if free_index[1] >= file_index[1]:\n",
    "            file_index[0] = free_index[0]\n",
    "            free_index[0] += file_index[1]\n",
    "            free_index[1] -= file_index[1]"
   ]
  },
  {
   "cell_type": "code",
   "execution_count": 151,
   "id": "d2627666-9426-4829-8ee0-7530f45344ba",
   "metadata": {
    "execution": {
     "iopub.execute_input": "2024-12-09T15:35:26.084903Z",
     "iopub.status.busy": "2024-12-09T15:35:26.084653Z",
     "iopub.status.idle": "2024-12-09T15:35:26.113154Z",
     "shell.execute_reply": "2024-12-09T15:35:26.112454Z",
     "shell.execute_reply.started": "2024-12-09T15:35:26.084880Z"
    }
   },
   "outputs": [
    {
     "data": {
      "text/plain": [
       "6335972980679"
      ]
     },
     "execution_count": 151,
     "metadata": {},
     "output_type": "execute_result"
    }
   ],
   "source": [
    "from functools import cmp_to_key\n",
    "\n",
    "def compare(index1, index2):\n",
    "    return index1[0]-index2[0]\n",
    "\n",
    "sorted_file_indices = sorted(file_indices, key=cmp_to_key(compare))\n",
    "\n",
    "total = 0\n",
    "for file_index in sorted_file_indices:\n",
    "    for i in range(file_index[1]):\n",
    "        total += (i+file_index[0]) * file_index[2]\n",
    "total"
   ]
  },
  {
   "cell_type": "code",
   "execution_count": null,
   "id": "cb4306bd-4e33-47ce-ab5f-e7f35f8037be",
   "metadata": {},
   "outputs": [],
   "source": []
  },
  {
   "cell_type": "code",
   "execution_count": null,
   "id": "2bcf33f5-225c-48c3-aee4-a64bf2d1e9a0",
   "metadata": {},
   "outputs": [],
   "source": []
  },
  {
   "cell_type": "code",
   "execution_count": null,
   "id": "bf31f092-5d95-4f76-96cd-1e307b006f67",
   "metadata": {},
   "outputs": [],
   "source": []
  }
 ],
 "metadata": {
  "kernelspec": {
   "display_name": "Python 3 (ipykernel)",
   "language": "python",
   "name": "python3"
  },
  "language_info": {
   "codemirror_mode": {
    "name": "ipython",
    "version": 3
   },
   "file_extension": ".py",
   "mimetype": "text/x-python",
   "name": "python",
   "nbconvert_exporter": "python",
   "pygments_lexer": "ipython3",
   "version": "3.8.10"
  }
 },
 "nbformat": 4,
 "nbformat_minor": 5
}
